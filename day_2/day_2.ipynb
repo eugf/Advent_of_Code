{
 "cells": [
  {
   "cell_type": "markdown",
   "metadata": {},
   "source": [
    "- forward X increases the horizontal position by X units.\n",
    "- down X increases the depth by X units.\n",
    "- up X decreases the depth by X units."
   ]
  },
  {
   "cell_type": "code",
   "execution_count": 1,
   "metadata": {},
   "outputs": [],
   "source": [
    "# Example\n",
    "course_list = ['forward 5', 'down 5', 'forward 8', 'up 3', 'down 8', 'forward 2']\n",
    "\n",
    "# total horizontal (forward) = 15\n",
    "# total depth = 10"
   ]
  },
  {
   "cell_type": "code",
   "execution_count": 2,
   "metadata": {},
   "outputs": [
    {
     "name": "stdout",
     "output_type": "stream",
     "text": [
      "forward = ['5', '8', '2']\n",
      "down = ['5', '8']\n",
      "up = ['3']\n"
     ]
    }
   ],
   "source": [
    "# Put all the forwards here\n",
    "forward = []\n",
    "\n",
    "# Put all the downs/ups here\n",
    "down = []\n",
    "up = []\n",
    "\n",
    "# Filter terms into 3 lists\n",
    "# Filter out the name of the list (forward/down/up)\n",
    "\n",
    "for direction in course_list:\n",
    "    if direction.startswith('forward'):\n",
    "        forward.append(direction.replace('forward ', ''))\n",
    "    elif direction.startswith('down'):\n",
    "        down.append(direction.replace('down ', ''))\n",
    "    elif direction.startswith('up'):\n",
    "        up.append(direction.replace('up ', ''))    \n",
    "    \n",
    "# Check what's in my lists\n",
    "print('forward = ' + str(forward))\n",
    "print('down = ' + str(down))\n",
    "print('up = ' + str(up))"
   ]
  },
  {
   "cell_type": "code",
   "execution_count": 3,
   "metadata": {},
   "outputs": [
    {
     "name": "stdout",
     "output_type": "stream",
     "text": [
      "forward = [5, 8, 2]\n",
      "down = [5, 8]\n",
      "up = [3]\n"
     ]
    }
   ],
   "source": [
    "# Convert lists of strings into lists of integers\n",
    "\n",
    "#forward_test = ([int(item) for item in forward])\n",
    "forward = list(map(int, forward))\n",
    "down = list(map(int, down))\n",
    "up = list(map(int, up))\n",
    "\n",
    "# Check what's in my lists\n",
    "print('forward = ' + str(forward))\n",
    "print('down = ' + str(down))\n",
    "print('up = ' + str(up))"
   ]
  },
  {
   "cell_type": "code",
   "execution_count": 14,
   "metadata": {},
   "outputs": [
    {
     "name": "stdout",
     "output_type": "stream",
     "text": [
      "total forward = 15\n",
      "total depth = \n",
      "10\n"
     ]
    }
   ],
   "source": [
    "# Add them all up\n",
    "# Up needs to be subtracted\n",
    "\n",
    "print('total forward = ' + str(sum(forward)))\n",
    "#print(sum(down))\n",
    "#print(sum(up))\n",
    "print('total depth = '); print( (sum(down) - sum(up)) )"
   ]
  },
  {
   "cell_type": "code",
   "execution_count": 15,
   "metadata": {},
   "outputs": [
    {
     "data": {
      "text/plain": [
       "150"
      ]
     },
     "execution_count": 15,
     "metadata": {},
     "output_type": "execute_result"
    }
   ],
   "source": [
    "# Multiply horizontal (forward) and depth\n",
    "\n",
    "sum(forward) * (sum(down) - sum(up))"
   ]
  }
 ],
 "metadata": {
  "interpreter": {
   "hash": "771a10e9912638bc1e3d9614f55e8788a2a6c82e1c07af3a7d7d70f175d18d28"
  },
  "kernelspec": {
   "display_name": "Python 3.8.11 64-bit ('data601-intro to DS': conda)",
   "language": "python",
   "name": "python3"
  },
  "language_info": {
   "codemirror_mode": {
    "name": "ipython",
    "version": 3
   },
   "file_extension": ".py",
   "mimetype": "text/x-python",
   "name": "python",
   "nbconvert_exporter": "python",
   "pygments_lexer": "ipython3",
   "version": "3.8.11"
  },
  "orig_nbformat": 4
 },
 "nbformat": 4,
 "nbformat_minor": 2
}
