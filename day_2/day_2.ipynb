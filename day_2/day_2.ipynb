{
 "cells": [
  {
   "cell_type": "markdown",
   "metadata": {},
   "source": [
    "- forward X increases the horizontal position by X units.\n",
    "- down X increases the depth by X units.\n",
    "- up X decreases the depth by X units."
   ]
  },
  {
   "cell_type": "code",
   "execution_count": 2,
   "metadata": {},
   "outputs": [],
   "source": [
    "# Example\n",
    "\n",
    "course_list = ['forward 5', 'down 5', 'forward 8', 'up 3', 'down 8', 'forward 2']\n",
    "\n",
    "# total horizontal (forward) = 15\n",
    "# total depth = 10"
   ]
  },
  {
   "cell_type": "code",
   "execution_count": 24,
   "metadata": {},
   "outputs": [
    {
     "name": "stdout",
     "output_type": "stream",
     "text": [
      "forward = ['5', '8', '2']\n",
      "down = ['5', '8']\n",
      "up = ['3']\n"
     ]
    }
   ],
   "source": [
    "# Put all the forwards here\n",
    "forward = []\n",
    "\n",
    "# Put all the downs/ups here\n",
    "down = []\n",
    "up = []\n",
    "\n",
    "# Filter terms into 3 lists\n",
    "# Filter out the name of the list (forward/down/up)\n",
    "\n",
    "for direction in course_list:\n",
    "    if direction.startswith('forward'):\n",
    "        forward.append(direction.replace('forward ', ''))\n",
    "    elif direction.startswith('down'):\n",
    "        down.append(direction.replace('down ', ''))\n",
    "    elif direction.startswith('up'):\n",
    "        up.append(direction.replace('up ', ''))    \n",
    "    \n",
    "# Check what's in my lists\n",
    "print('forward = ' + str(forward))\n",
    "print('down = ' + str(down))\n",
    "print('up = ' + str(up))"
   ]
  },
  {
   "cell_type": "code",
   "execution_count": 32,
   "metadata": {},
   "outputs": [
    {
     "name": "stdout",
     "output_type": "stream",
     "text": [
      "forward = [5, 8, 2]\n",
      "down = [5, 8]\n",
      "up = [5, 8]\n"
     ]
    }
   ],
   "source": [
    "# Convert lists of strings into lists of integers\n",
    "\n",
    "#forward_test = ([int(item) for item in forward])\n",
    "forward = list(map(int, forward))\n",
    "down = list(map(int, down))\n",
    "up = list(map(int, down))\n",
    "\n",
    "# Check what's in my lists\n",
    "print('forward = ' + str(forward))\n",
    "print('down = ' + str(down))\n",
    "print('up = ' + str(up))"
   ]
  },
  {
   "cell_type": "code",
   "execution_count": null,
   "metadata": {},
   "outputs": [],
   "source": [
    "# Add them all up\n",
    "# Up needs to subtract\n",
    "\n",
    "total_forward = 0\n",
    "total_down = 0\n",
    "total_up = 0\n",
    "\n",
    "def adding(list):\n",
    "    for item in list:\n",
    "\n",
    "\n",
    "# Multiply horizontal (forward) and depth"
   ]
  }
 ],
 "metadata": {
  "interpreter": {
   "hash": "771a10e9912638bc1e3d9614f55e8788a2a6c82e1c07af3a7d7d70f175d18d28"
  },
  "kernelspec": {
   "display_name": "Python 3.8.11 64-bit ('data601-intro to DS': conda)",
   "language": "python",
   "name": "python3"
  },
  "language_info": {
   "name": "python",
   "version": "3.8.11"
  },
  "orig_nbformat": 4
 },
 "nbformat": 4,
 "nbformat_minor": 2
}
