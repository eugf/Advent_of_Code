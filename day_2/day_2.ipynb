{
 "cells": [
  {
   "cell_type": "markdown",
   "metadata": {},
   "source": [
    "- forward X increases the horizontal position by X units.\n",
    "- down X increases the depth by X units.\n",
    "- up X decreases the depth by X units."
   ]
  },
  {
   "cell_type": "code",
   "execution_count": 2,
   "metadata": {},
   "outputs": [],
   "source": [
    "# Example\n",
    "course_list = ['forward 5', 'down 5', 'forward 8', 'up 3', 'down 8', 'forward 2']\n",
    "\n",
    "# total horizontal (forward) = 15\n",
    "# total depth = 10"
   ]
  },
  {
   "cell_type": "code",
   "execution_count": 3,
   "metadata": {},
   "outputs": [
    {
     "name": "stdout",
     "output_type": "stream",
     "text": [
      "['forward 2\\n', 'forward 3\\n', 'forward 5\\n', 'forward 6\\n', 'down 7\\n', 'forward 8\\n', 'forward 4\\n', 'forward 7\\n', 'forward 5\\n', 'forward 5\\n', 'down 4\\n', 'down 9\\n', 'forward 8\\n', 'forward 5\\n', 'up 5\\n', 'down 5\\n', 'forward 3\\n', 'down 4\\n', 'down 8\\n', 'forward 9\\n', 'down 1\\n', 'up 9\\n', 'down 7\\n', 'up 7\\n', 'up 1\\n', 'forward 1\\n', 'down 1\\n', 'down 4\\n', 'down 4\\n', 'down 8\\n', 'down 4\\n', 'up 3\\n', 'down 1\\n', 'down 3\\n', 'forward 7\\n', 'down 6\\n', 'forward 3\\n', 'forward 5\\n', 'forward 2\\n', 'up 9\\n', 'forward 7\\n', 'up 5\\n', 'down 3\\n', 'forward 1\\n', 'forward 2\\n', 'down 3\\n', 'down 8\\n', 'down 3\\n', 'forward 8\\n', 'up 5\\n', 'down 5\\n', 'forward 3\\n', 'down 5\\n', 'forward 9\\n', 'down 3\\n', 'down 4\\n', 'down 9\\n', 'down 7\\n', 'up 3\\n', 'down 9\\n', 'up 9\\n', 'up 1\\n', 'forward 3\\n', 'up 4\\n', 'down 3\\n', 'forward 7\\n', 'forward 7\\n', 'up 7\\n', 'forward 6\\n', 'down 7\\n', 'down 6\\n', 'forward 2\\n', 'forward 9\\n', 'down 5\\n', 'forward 4\\n', 'up 6\\n', 'down 1\\n', 'down 9\\n', 'down 9\\n', 'forward 4\\n', 'down 1\\n', 'forward 6\\n', 'down 1\\n', 'down 5\\n', 'down 4\\n', 'down 4\\n', 'forward 4\\n', 'forward 9\\n', 'up 1\\n', 'down 2\\n', 'down 8\\n', 'down 5\\n', 'down 8\\n', 'down 8\\n', 'up 2\\n', 'forward 8\\n', 'up 1\\n', 'forward 4\\n', 'down 5\\n', 'down 1\\n', 'up 2\\n', 'forward 6\\n', 'forward 9\\n', 'forward 2\\n', 'forward 6\\n', 'forward 9\\n', 'up 6\\n', 'forward 9\\n', 'up 4\\n', 'down 7\\n', 'up 6\\n', 'forward 2\\n', 'down 1\\n', 'up 3\\n', 'forward 1\\n', 'forward 8\\n', 'down 6\\n', 'down 8\\n', 'down 8\\n', 'forward 8\\n', 'forward 2\\n', 'forward 2\\n', 'down 2\\n', 'up 1\\n', 'down 9\\n', 'up 9\\n', 'down 9\\n', 'up 3\\n', 'forward 9\\n', 'up 4\\n', 'up 7\\n', 'up 6\\n', 'down 9\\n', 'forward 1\\n', 'down 3\\n', 'down 4\\n', 'forward 8\\n', 'down 3\\n', 'down 9\\n', 'up 3\\n', 'forward 2\\n', 'up 5\\n', 'down 3\\n', 'forward 8\\n', 'up 3\\n', 'down 3\\n', 'forward 2\\n', 'forward 9\\n', 'down 1\\n', 'down 9\\n', 'down 4\\n', 'up 7\\n', 'down 4\\n', 'up 6\\n', 'forward 5\\n', 'down 6\\n', 'forward 3\\n', 'down 2\\n', 'forward 1\\n', 'forward 8\\n', 'down 4\\n', 'forward 1\\n', 'up 7\\n', 'forward 6\\n', 'up 9\\n', 'forward 6\\n', 'down 3\\n', 'forward 2\\n', 'down 4\\n', 'forward 6\\n', 'down 3\\n', 'down 6\\n', 'down 1\\n', 'down 1\\n', 'down 5\\n', 'forward 3\\n', 'forward 9\\n', 'forward 8\\n', 'down 3\\n', 'forward 7\\n', 'up 9\\n', 'forward 9\\n', 'up 2\\n', 'forward 4\\n', 'up 3\\n', 'forward 1\\n', 'up 6\\n', 'up 8\\n', 'down 5\\n', 'down 6\\n', 'up 9\\n', 'down 6\\n', 'down 9\\n', 'up 9\\n', 'down 4\\n', 'forward 5\\n', 'up 2\\n', 'down 3\\n', 'up 3\\n', 'down 1\\n', 'forward 3\\n', 'down 5\\n', 'forward 7\\n', 'down 6\\n', 'down 7\\n', 'down 5\\n', 'forward 2\\n', 'up 6\\n', 'down 9\\n', 'down 4\\n', 'down 3\\n', 'forward 9\\n', 'up 8\\n', 'forward 2\\n', 'down 2\\n', 'forward 4\\n', 'up 6\\n', 'down 4\\n', 'up 8\\n', 'down 7\\n', 'down 2\\n', 'up 6\\n', 'up 4\\n', 'down 2\\n', 'forward 5\\n', 'up 4\\n', 'down 8\\n', 'forward 3\\n', 'forward 1\\n', 'down 7\\n', 'forward 8\\n', 'forward 7\\n', 'down 7\\n', 'up 4\\n', 'forward 8\\n', 'down 5\\n', 'up 9\\n', 'forward 1\\n', 'forward 4\\n', 'forward 9\\n', 'forward 7\\n', 'down 9\\n', 'up 9\\n', 'down 1\\n', 'down 7\\n', 'forward 7\\n', 'down 7\\n', 'down 7\\n', 'down 3\\n', 'down 5\\n', 'forward 3\\n', 'down 2\\n', 'forward 6\\n', 'down 9\\n', 'up 5\\n', 'up 3\\n', 'forward 5\\n', 'down 6\\n', 'down 1\\n', 'forward 4\\n', 'down 3\\n', 'forward 8\\n', 'down 7\\n', 'forward 7\\n', 'forward 7\\n', 'up 7\\n', 'up 2\\n', 'up 3\\n', 'forward 9\\n', 'down 5\\n', 'up 2\\n', 'forward 5\\n', 'up 5\\n', 'forward 2\\n', 'forward 2\\n', 'down 8\\n', 'forward 2\\n', 'up 4\\n', 'forward 1\\n', 'forward 3\\n', 'up 8\\n', 'up 9\\n', 'forward 5\\n', 'down 1\\n', 'up 8\\n', 'down 4\\n', 'down 8\\n', 'up 4\\n', 'forward 9\\n', 'down 6\\n', 'down 8\\n', 'up 2\\n', 'up 3\\n', 'down 7\\n', 'down 4\\n', 'forward 5\\n', 'down 6\\n', 'forward 3\\n', 'forward 3\\n', 'forward 8\\n', 'down 1\\n', 'down 7\\n', 'down 9\\n', 'down 2\\n', 'down 7\\n', 'forward 7\\n', 'down 7\\n', 'down 6\\n', 'up 6\\n', 'forward 8\\n', 'forward 5\\n', 'up 5\\n', 'down 2\\n', 'up 8\\n', 'up 4\\n', 'down 9\\n', 'up 2\\n', 'forward 5\\n', 'up 2\\n', 'down 4\\n', 'up 4\\n', 'forward 2\\n', 'forward 4\\n', 'forward 9\\n', 'forward 9\\n', 'up 4\\n', 'up 5\\n', 'down 1\\n', 'down 6\\n', 'down 1\\n', 'down 4\\n', 'down 5\\n', 'down 3\\n', 'forward 3\\n', 'down 9\\n', 'forward 6\\n', 'down 3\\n', 'down 9\\n', 'down 2\\n', 'up 2\\n', 'down 2\\n', 'down 7\\n', 'forward 9\\n', 'down 3\\n', 'down 3\\n', 'down 2\\n', 'down 3\\n', 'forward 2\\n', 'down 9\\n', 'down 9\\n', 'up 5\\n', 'up 3\\n', 'forward 4\\n', 'up 7\\n', 'forward 8\\n', 'up 6\\n', 'forward 7\\n', 'down 7\\n', 'down 1\\n', 'forward 5\\n', 'down 2\\n', 'up 1\\n', 'down 8\\n', 'up 3\\n', 'forward 2\\n', 'up 9\\n', 'down 1\\n', 'down 3\\n', 'down 6\\n', 'down 2\\n', 'down 7\\n', 'up 2\\n', 'forward 5\\n', 'forward 7\\n', 'down 2\\n', 'forward 5\\n', 'forward 4\\n', 'forward 5\\n', 'down 3\\n', 'forward 7\\n', 'down 7\\n', 'forward 8\\n', 'down 3\\n', 'down 2\\n', 'up 1\\n', 'forward 6\\n', 'down 4\\n', 'down 2\\n', 'forward 7\\n', 'up 3\\n', 'down 4\\n', 'forward 2\\n', 'up 6\\n', 'down 3\\n', 'up 6\\n', 'up 8\\n', 'down 9\\n', 'up 6\\n', 'forward 8\\n', 'forward 9\\n', 'forward 4\\n', 'forward 7\\n', 'down 2\\n', 'forward 9\\n', 'down 7\\n', 'up 9\\n', 'down 5\\n', 'down 6\\n', 'up 5\\n', 'down 4\\n', 'forward 8\\n', 'forward 4\\n', 'forward 4\\n', 'down 6\\n', 'forward 3\\n', 'forward 6\\n', 'down 9\\n', 'down 9\\n', 'up 2\\n', 'forward 7\\n', 'down 8\\n', 'down 9\\n', 'down 9\\n', 'forward 7\\n', 'forward 3\\n', 'down 7\\n', 'down 8\\n', 'forward 8\\n', 'down 6\\n', 'down 5\\n', 'down 9\\n', 'down 3\\n', 'forward 1\\n', 'down 5\\n', 'forward 2\\n', 'forward 8\\n', 'down 2\\n', 'forward 6\\n', 'forward 3\\n', 'down 7\\n', 'down 4\\n', 'forward 8\\n', 'forward 1\\n', 'down 6\\n', 'forward 9\\n', 'forward 6\\n', 'up 1\\n', 'up 3\\n', 'down 8\\n', 'forward 1\\n', 'up 5\\n', 'down 4\\n', 'forward 7\\n', 'up 3\\n', 'down 2\\n', 'forward 1\\n', 'forward 9\\n', 'down 9\\n', 'down 7\\n', 'forward 8\\n', 'down 4\\n', 'up 3\\n', 'down 4\\n', 'forward 2\\n', 'forward 6\\n', 'down 7\\n', 'forward 6\\n', 'down 6\\n', 'down 4\\n', 'down 1\\n', 'up 9\\n', 'down 4\\n', 'down 7\\n', 'up 4\\n', 'down 9\\n', 'forward 6\\n', 'down 3\\n', 'forward 2\\n', 'down 4\\n', 'forward 3\\n', 'down 5\\n', 'up 9\\n', 'forward 8\\n', 'up 7\\n', 'up 6\\n', 'up 4\\n', 'forward 1\\n', 'down 1\\n', 'forward 4\\n', 'up 6\\n', 'forward 5\\n', 'forward 4\\n', 'forward 5\\n', 'up 6\\n', 'down 1\\n', 'forward 3\\n', 'up 7\\n', 'down 9\\n', 'up 9\\n', 'down 5\\n', 'forward 6\\n', 'forward 4\\n', 'up 1\\n', 'down 4\\n', 'up 1\\n', 'forward 3\\n', 'forward 1\\n', 'down 3\\n', 'forward 7\\n', 'down 2\\n', 'forward 3\\n', 'up 2\\n', 'forward 8\\n', 'down 3\\n', 'up 9\\n', 'down 5\\n', 'forward 6\\n', 'down 1\\n', 'down 8\\n', 'down 5\\n', 'forward 1\\n', 'down 6\\n', 'up 2\\n', 'forward 6\\n', 'down 2\\n', 'down 1\\n', 'up 6\\n', 'up 7\\n', 'down 5\\n', 'forward 7\\n', 'forward 6\\n', 'forward 6\\n', 'down 7\\n', 'forward 4\\n', 'down 5\\n', 'up 5\\n', 'down 1\\n', 'up 8\\n', 'down 8\\n', 'down 2\\n', 'down 2\\n', 'down 9\\n', 'up 9\\n', 'forward 2\\n', 'forward 7\\n', 'down 7\\n', 'down 4\\n', 'down 4\\n', 'down 8\\n', 'forward 5\\n', 'forward 2\\n', 'up 9\\n', 'down 9\\n', 'forward 7\\n', 'up 9\\n', 'down 2\\n', 'down 7\\n', 'up 2\\n', 'up 8\\n', 'forward 8\\n', 'down 4\\n', 'forward 3\\n', 'forward 4\\n', 'forward 6\\n', 'forward 2\\n', 'down 1\\n', 'down 2\\n', 'forward 2\\n', 'up 1\\n', 'down 1\\n', 'forward 5\\n', 'up 3\\n', 'up 3\\n', 'down 3\\n', 'down 1\\n', 'down 4\\n', 'up 5\\n', 'up 6\\n', 'forward 5\\n', 'up 7\\n', 'forward 6\\n', 'down 4\\n', 'down 7\\n', 'up 8\\n', 'forward 1\\n', 'down 5\\n', 'up 4\\n', 'up 3\\n', 'up 5\\n', 'down 1\\n', 'up 5\\n', 'forward 3\\n', 'up 5\\n', 'forward 2\\n', 'forward 2\\n', 'forward 5\\n', 'forward 2\\n', 'up 9\\n', 'forward 4\\n', 'down 1\\n', 'down 3\\n', 'down 5\\n', 'up 2\\n', 'down 8\\n', 'forward 8\\n', 'forward 9\\n', 'down 1\\n', 'down 3\\n', 'forward 8\\n', 'forward 2\\n', 'down 2\\n', 'down 1\\n', 'up 7\\n', 'forward 2\\n', 'forward 8\\n', 'down 9\\n', 'forward 1\\n', 'forward 4\\n', 'down 7\\n', 'down 4\\n', 'up 7\\n', 'down 3\\n', 'down 1\\n', 'down 4\\n', 'up 7\\n', 'down 6\\n', 'forward 7\\n', 'down 8\\n', 'up 2\\n', 'up 4\\n', 'up 6\\n', 'down 9\\n', 'down 9\\n', 'down 8\\n', 'forward 6\\n', 'up 3\\n', 'up 1\\n', 'forward 9\\n', 'forward 6\\n', 'up 4\\n', 'up 2\\n', 'up 7\\n', 'forward 5\\n', 'up 9\\n', 'up 9\\n', 'forward 9\\n', 'up 6\\n', 'down 1\\n', 'down 3\\n', 'forward 3\\n', 'down 2\\n', 'down 2\\n', 'down 6\\n', 'down 9\\n', 'forward 3\\n', 'forward 7\\n', 'up 3\\n', 'forward 3\\n', 'down 5\\n', 'forward 9\\n', 'up 6\\n', 'down 2\\n', 'forward 8\\n', 'down 3\\n', 'up 5\\n', 'down 6\\n', 'forward 9\\n', 'down 5\\n', 'down 2\\n', 'down 6\\n', 'forward 8\\n', 'forward 6\\n', 'down 1\\n', 'forward 6\\n', 'up 1\\n', 'up 7\\n', 'down 4\\n', 'down 7\\n', 'forward 4\\n', 'forward 7\\n', 'down 4\\n', 'forward 8\\n', 'down 8\\n', 'down 7\\n', 'forward 9\\n', 'down 1\\n', 'down 3\\n', 'down 6\\n', 'forward 7\\n', 'forward 6\\n', 'forward 3\\n', 'forward 8\\n', 'down 5\\n', 'down 3\\n', 'up 1\\n', 'down 9\\n', 'down 8\\n', 'forward 3\\n', 'down 6\\n', 'down 1\\n', 'forward 5\\n', 'forward 5\\n', 'forward 9\\n', 'up 5\\n', 'down 6\\n', 'up 9\\n', 'down 7\\n', 'down 6\\n', 'up 1\\n', 'forward 5\\n', 'forward 7\\n', 'forward 8\\n', 'forward 7\\n', 'forward 6\\n', 'forward 3\\n', 'forward 1\\n', 'forward 2\\n', 'up 4\\n', 'forward 3\\n', 'forward 4\\n', 'forward 5\\n', 'up 2\\n', 'up 3\\n', 'forward 4\\n', 'down 9\\n', 'up 4\\n', 'forward 7\\n', 'down 6\\n', 'down 6\\n', 'down 1\\n', 'forward 2\\n', 'down 2\\n', 'forward 2\\n', 'down 3\\n', 'forward 7\\n', 'forward 8\\n', 'down 4\\n', 'up 7\\n', 'forward 7\\n', 'down 7\\n', 'forward 7\\n', 'forward 9\\n', 'down 7\\n', 'up 2\\n', 'down 3\\n', 'forward 7\\n', 'down 1\\n', 'forward 8\\n', 'forward 2\\n', 'up 9\\n', 'down 3\\n', 'forward 2\\n', 'up 4\\n', 'forward 9\\n', 'down 4\\n', 'down 4\\n', 'forward 4\\n', 'down 2\\n', 'down 9\\n', 'forward 4\\n', 'down 2\\n', 'down 6\\n', 'forward 9\\n', 'forward 2\\n', 'up 1\\n', 'forward 2\\n', 'forward 3\\n', 'down 5\\n', 'up 8\\n', 'down 4\\n', 'down 4\\n', 'forward 7\\n', 'down 2\\n', 'up 6\\n', 'down 9\\n', 'forward 9\\n', 'up 1\\n', 'forward 3\\n', 'down 5\\n', 'forward 3\\n', 'down 3\\n', 'forward 4\\n', 'up 3\\n', 'down 6\\n', 'down 7\\n', 'down 4\\n', 'down 8\\n', 'down 4\\n', 'down 5\\n', 'up 9\\n', 'up 1\\n', 'down 7\\n', 'up 3\\n', 'up 3\\n', 'down 3\\n', 'up 4\\n', 'up 6\\n', 'forward 8\\n', 'down 1\\n', 'forward 7\\n', 'forward 4\\n', 'down 9\\n', 'down 1\\n', 'forward 7\\n', 'forward 9\\n', 'forward 1\\n', 'down 3\\n', 'down 2\\n', 'forward 3\\n', 'forward 2\\n', 'down 7\\n', 'forward 9\\n', 'forward 6\\n', 'up 9\\n', 'down 2\\n', 'forward 9\\n', 'up 6\\n', 'forward 8\\n', 'up 1\\n', 'down 5\\n', 'down 8\\n', 'forward 1\\n', 'down 1\\n', 'forward 9\\n', 'up 1\\n', 'forward 9\\n', 'forward 1\\n', 'forward 1\\n', 'down 7\\n', 'forward 3\\n', 'forward 6\\n', 'down 5\\n', 'forward 7\\n', 'forward 1\\n', 'down 7\\n', 'down 6\\n', 'down 6\\n', 'forward 5\\n', 'up 6\\n', 'down 6\\n', 'forward 8\\n', 'up 2\\n', 'down 8\\n', 'down 3\\n', 'up 5\\n', 'up 8\\n', 'down 6\\n', 'forward 4\\n', 'forward 2\\n', 'up 3\\n', 'forward 5\\n', 'forward 3\\n', 'up 8\\n', 'forward 6\\n', 'up 8\\n', 'forward 1\\n', 'up 8\\n', 'up 7\\n', 'up 6\\n', 'forward 2\\n', 'down 9\\n', 'down 9\\n', 'forward 3\\n', 'down 7\\n', 'forward 3\\n', 'down 6\\n', 'forward 9\\n', 'up 5\\n', 'down 1\\n', 'forward 7\\n', 'down 1\\n', 'down 5\\n', 'down 9\\n', 'forward 8\\n', 'forward 9\\n', 'forward 7\\n', 'down 9\\n', 'up 4\\n', 'forward 5\\n', 'down 5\\n', 'forward 5\\n', 'down 9\\n', 'forward 9\\n', 'forward 3\\n', 'up 5\\n', 'forward 8\\n', 'up 5\\n', 'down 1\\n', 'forward 8\\n', 'down 3\\n', 'forward 6\\n', 'up 9\\n', 'forward 8\\n', 'down 4\\n', 'forward 3\\n', 'down 5\\n', 'forward 8\\n', 'forward 9\\n', 'forward 2\\n', 'down 1\\n', 'down 6\\n', 'down 4\\n', 'forward 9\\n', 'up 2\\n', 'down 3\\n', 'down 6\\n', 'down 3\\n', 'down 9\\n', 'down 1\\n', 'up 6\\n', 'down 2\\n', 'down 7\\n', 'up 5\\n', 'forward 5\\n', 'up 1\\n', 'down 7\\n', 'forward 6\\n', 'up 6\\n', 'down 2\\n', 'down 3\\n', 'forward 3\\n', 'down 5\\n', 'forward 8\\n', 'down 9\\n', 'down 7\\n', 'down 8\\n', 'up 7\\n', 'down 1\\n', 'forward 1\\n', 'forward 1\\n', 'down 2\\n', 'up 4\\n', 'forward 2\\n', 'down 3\\n', 'up 2\\n', 'down 3\\n', 'down 2\\n', 'forward 7\\n', 'down 1\\n', 'up 7\\n', 'down 2\\n', 'down 1\\n', 'forward 6\\n', 'down 9\\n', 'up 9\\n', 'down 4\\n', 'down 6\\n', 'up 9\\n', 'forward 7\\n', 'forward 9\\n', 'forward 7\\n', 'down 4\\n', 'down 1\\n', 'forward 7\\n', 'down 4\\n', 'down 7\\n', 'down 3\\n', 'down 5\\n', 'forward 3\\n', 'down 8\\n', 'forward 8\\n', 'forward 7\\n', 'forward 8\\n', 'down 4\\n', 'down 9\\n', 'forward 2\\n', 'forward 7\\n', 'up 8\\n', 'forward 4\\n', 'down 6\\n', 'up 8\\n', 'down 2\\n', 'forward 3\\n', 'down 6\\n', 'down 8\\n', 'forward 8\\n', 'forward 2\\n', 'forward 9\\n', 'up 6\\n', 'forward 7\\n', 'down 3\\n', 'down 5\\n', 'forward 8\\n', 'forward 9\\n', 'down 3\\n', 'forward 3\\n', 'forward 2\\n', 'forward 3\\n', 'down 8\\n', 'up 9\\n', 'up 5\\n', 'up 2\\n', 'up 6\\n', 'up 1\\n', 'up 1\\n', 'up 5\\n', 'forward 3\\n', 'forward 2\\n', 'down 3\\n', 'forward 4']\n"
     ]
    }
   ],
   "source": [
    "# This time I'm going to replace the Example block above\n",
    "# Instead, this will now be the real puzzle input\n",
    "\n",
    "# This section imports in puzzle input as a list\n",
    "\n",
    "course_list = []\n",
    "\n",
    "with open('day_2_puzzle_input.txt') as file:\n",
    "    for line in file:\n",
    "        course_list.append(line)\n",
    "\n",
    "print(course_list)"
   ]
  },
  {
   "cell_type": "code",
   "execution_count": 4,
   "metadata": {},
   "outputs": [
    {
     "name": "stdout",
     "output_type": "stream",
     "text": [
      "forward = ['2\\n', '3\\n', '5\\n', '6\\n', '8\\n', '4\\n', '7\\n', '5\\n', '5\\n', '8\\n', '5\\n', '3\\n', '9\\n', '1\\n', '7\\n', '3\\n', '5\\n', '2\\n', '7\\n', '1\\n', '2\\n', '8\\n', '3\\n', '9\\n', '3\\n', '7\\n', '7\\n', '6\\n', '2\\n', '9\\n', '4\\n', '4\\n', '6\\n', '4\\n', '9\\n', '8\\n', '4\\n', '6\\n', '9\\n', '2\\n', '6\\n', '9\\n', '9\\n', '2\\n', '1\\n', '8\\n', '8\\n', '2\\n', '2\\n', '9\\n', '1\\n', '8\\n', '2\\n', '8\\n', '2\\n', '9\\n', '5\\n', '3\\n', '1\\n', '8\\n', '1\\n', '6\\n', '6\\n', '2\\n', '6\\n', '3\\n', '9\\n', '8\\n', '7\\n', '9\\n', '4\\n', '1\\n', '5\\n', '3\\n', '7\\n', '2\\n', '9\\n', '2\\n', '4\\n', '5\\n', '3\\n', '1\\n', '8\\n', '7\\n', '8\\n', '1\\n', '4\\n', '9\\n', '7\\n', '7\\n', '3\\n', '6\\n', '5\\n', '4\\n', '8\\n', '7\\n', '7\\n', '9\\n', '5\\n', '2\\n', '2\\n', '2\\n', '1\\n', '3\\n', '5\\n', '9\\n', '5\\n', '3\\n', '3\\n', '8\\n', '7\\n', '8\\n', '5\\n', '5\\n', '2\\n', '4\\n', '9\\n', '9\\n', '3\\n', '6\\n', '9\\n', '2\\n', '4\\n', '8\\n', '7\\n', '5\\n', '2\\n', '5\\n', '7\\n', '5\\n', '4\\n', '5\\n', '7\\n', '8\\n', '6\\n', '7\\n', '2\\n', '8\\n', '9\\n', '4\\n', '7\\n', '9\\n', '8\\n', '4\\n', '4\\n', '3\\n', '6\\n', '7\\n', '7\\n', '3\\n', '8\\n', '1\\n', '2\\n', '8\\n', '6\\n', '3\\n', '8\\n', '1\\n', '9\\n', '6\\n', '1\\n', '7\\n', '1\\n', '9\\n', '8\\n', '2\\n', '6\\n', '6\\n', '6\\n', '2\\n', '3\\n', '8\\n', '1\\n', '4\\n', '5\\n', '4\\n', '5\\n', '3\\n', '6\\n', '4\\n', '3\\n', '1\\n', '7\\n', '3\\n', '8\\n', '6\\n', '1\\n', '6\\n', '7\\n', '6\\n', '6\\n', '4\\n', '2\\n', '7\\n', '5\\n', '2\\n', '7\\n', '8\\n', '3\\n', '4\\n', '6\\n', '2\\n', '2\\n', '5\\n', '5\\n', '6\\n', '1\\n', '3\\n', '2\\n', '2\\n', '5\\n', '2\\n', '4\\n', '8\\n', '9\\n', '8\\n', '2\\n', '2\\n', '8\\n', '1\\n', '4\\n', '7\\n', '6\\n', '9\\n', '6\\n', '5\\n', '9\\n', '3\\n', '3\\n', '7\\n', '3\\n', '9\\n', '8\\n', '9\\n', '8\\n', '6\\n', '6\\n', '4\\n', '7\\n', '8\\n', '9\\n', '7\\n', '6\\n', '3\\n', '8\\n', '3\\n', '5\\n', '5\\n', '9\\n', '5\\n', '7\\n', '8\\n', '7\\n', '6\\n', '3\\n', '1\\n', '2\\n', '3\\n', '4\\n', '5\\n', '4\\n', '7\\n', '2\\n', '2\\n', '7\\n', '8\\n', '7\\n', '7\\n', '9\\n', '7\\n', '8\\n', '2\\n', '2\\n', '9\\n', '4\\n', '4\\n', '9\\n', '2\\n', '2\\n', '3\\n', '7\\n', '9\\n', '3\\n', '3\\n', '4\\n', '8\\n', '7\\n', '4\\n', '7\\n', '9\\n', '1\\n', '3\\n', '2\\n', '9\\n', '6\\n', '9\\n', '8\\n', '1\\n', '9\\n', '9\\n', '1\\n', '1\\n', '3\\n', '6\\n', '7\\n', '1\\n', '5\\n', '8\\n', '4\\n', '2\\n', '5\\n', '3\\n', '6\\n', '1\\n', '2\\n', '3\\n', '3\\n', '9\\n', '7\\n', '8\\n', '9\\n', '7\\n', '5\\n', '5\\n', '9\\n', '3\\n', '8\\n', '8\\n', '6\\n', '8\\n', '3\\n', '8\\n', '9\\n', '2\\n', '9\\n', '5\\n', '6\\n', '3\\n', '8\\n', '1\\n', '1\\n', '2\\n', '7\\n', '6\\n', '7\\n', '9\\n', '7\\n', '7\\n', '3\\n', '8\\n', '7\\n', '8\\n', '2\\n', '7\\n', '4\\n', '3\\n', '8\\n', '2\\n', '9\\n', '7\\n', '8\\n', '9\\n', '3\\n', '2\\n', '3\\n', '3\\n', '2\\n', '4']\n",
      "down = ['7\\n', '4\\n', '9\\n', '5\\n', '4\\n', '8\\n', '1\\n', '7\\n', '1\\n', '4\\n', '4\\n', '8\\n', '4\\n', '1\\n', '3\\n', '6\\n', '3\\n', '3\\n', '8\\n', '3\\n', '5\\n', '5\\n', '3\\n', '4\\n', '9\\n', '7\\n', '9\\n', '3\\n', '7\\n', '6\\n', '5\\n', '1\\n', '9\\n', '9\\n', '1\\n', '1\\n', '5\\n', '4\\n', '4\\n', '2\\n', '8\\n', '5\\n', '8\\n', '8\\n', '5\\n', '1\\n', '7\\n', '1\\n', '6\\n', '8\\n', '8\\n', '2\\n', '9\\n', '9\\n', '9\\n', '3\\n', '4\\n', '3\\n', '9\\n', '3\\n', '3\\n', '1\\n', '9\\n', '4\\n', '4\\n', '6\\n', '2\\n', '4\\n', '3\\n', '4\\n', '3\\n', '6\\n', '1\\n', '1\\n', '5\\n', '3\\n', '5\\n', '6\\n', '6\\n', '9\\n', '4\\n', '3\\n', '1\\n', '5\\n', '6\\n', '7\\n', '5\\n', '9\\n', '4\\n', '3\\n', '2\\n', '4\\n', '7\\n', '2\\n', '2\\n', '8\\n', '7\\n', '7\\n', '5\\n', '9\\n', '1\\n', '7\\n', '7\\n', '7\\n', '3\\n', '5\\n', '2\\n', '9\\n', '6\\n', '1\\n', '3\\n', '7\\n', '5\\n', '8\\n', '1\\n', '4\\n', '8\\n', '6\\n', '8\\n', '7\\n', '4\\n', '6\\n', '1\\n', '7\\n', '9\\n', '2\\n', '7\\n', '7\\n', '6\\n', '2\\n', '9\\n', '4\\n', '1\\n', '6\\n', '1\\n', '4\\n', '5\\n', '3\\n', '9\\n', '3\\n', '9\\n', '2\\n', '2\\n', '7\\n', '3\\n', '3\\n', '2\\n', '3\\n', '9\\n', '9\\n', '7\\n', '1\\n', '2\\n', '8\\n', '1\\n', '3\\n', '6\\n', '2\\n', '7\\n', '2\\n', '3\\n', '7\\n', '3\\n', '2\\n', '4\\n', '2\\n', '4\\n', '3\\n', '9\\n', '2\\n', '7\\n', '5\\n', '6\\n', '4\\n', '6\\n', '9\\n', '9\\n', '8\\n', '9\\n', '9\\n', '7\\n', '8\\n', '6\\n', '5\\n', '9\\n', '3\\n', '5\\n', '2\\n', '7\\n', '4\\n', '6\\n', '8\\n', '4\\n', '2\\n', '9\\n', '7\\n', '4\\n', '4\\n', '7\\n', '6\\n', '4\\n', '1\\n', '4\\n', '7\\n', '9\\n', '3\\n', '4\\n', '5\\n', '1\\n', '1\\n', '9\\n', '5\\n', '4\\n', '3\\n', '2\\n', '3\\n', '5\\n', '1\\n', '8\\n', '5\\n', '6\\n', '2\\n', '1\\n', '5\\n', '7\\n', '5\\n', '1\\n', '8\\n', '2\\n', '2\\n', '9\\n', '7\\n', '4\\n', '4\\n', '8\\n', '9\\n', '2\\n', '7\\n', '4\\n', '1\\n', '2\\n', '1\\n', '3\\n', '1\\n', '4\\n', '4\\n', '7\\n', '5\\n', '1\\n', '1\\n', '3\\n', '5\\n', '8\\n', '1\\n', '3\\n', '2\\n', '1\\n', '9\\n', '7\\n', '4\\n', '3\\n', '1\\n', '4\\n', '6\\n', '8\\n', '9\\n', '9\\n', '8\\n', '1\\n', '3\\n', '2\\n', '2\\n', '6\\n', '9\\n', '5\\n', '2\\n', '3\\n', '6\\n', '5\\n', '2\\n', '6\\n', '1\\n', '4\\n', '7\\n', '4\\n', '8\\n', '7\\n', '1\\n', '3\\n', '6\\n', '5\\n', '3\\n', '9\\n', '8\\n', '6\\n', '1\\n', '6\\n', '7\\n', '6\\n', '9\\n', '6\\n', '6\\n', '1\\n', '2\\n', '3\\n', '4\\n', '7\\n', '7\\n', '3\\n', '1\\n', '3\\n', '4\\n', '4\\n', '2\\n', '9\\n', '2\\n', '6\\n', '5\\n', '4\\n', '4\\n', '2\\n', '9\\n', '5\\n', '3\\n', '6\\n', '7\\n', '4\\n', '8\\n', '4\\n', '5\\n', '7\\n', '3\\n', '1\\n', '9\\n', '1\\n', '3\\n', '2\\n', '7\\n', '2\\n', '5\\n', '8\\n', '1\\n', '7\\n', '5\\n', '7\\n', '6\\n', '6\\n', '6\\n', '8\\n', '3\\n', '6\\n', '9\\n', '9\\n', '7\\n', '6\\n', '1\\n', '1\\n', '5\\n', '9\\n', '9\\n', '5\\n', '9\\n', '1\\n', '3\\n', '4\\n', '5\\n', '1\\n', '6\\n', '4\\n', '3\\n', '6\\n', '3\\n', '9\\n', '1\\n', '2\\n', '7\\n', '7\\n', '2\\n', '3\\n', '5\\n', '9\\n', '7\\n', '8\\n', '1\\n', '2\\n', '3\\n', '3\\n', '2\\n', '1\\n', '2\\n', '1\\n', '9\\n', '4\\n', '6\\n', '4\\n', '1\\n', '4\\n', '7\\n', '3\\n', '5\\n', '8\\n', '4\\n', '9\\n', '6\\n', '2\\n', '6\\n', '8\\n', '3\\n', '5\\n', '3\\n', '8\\n', '3\\n']\n",
      "up = ['5\\n', '9\\n', '7\\n', '1\\n', '3\\n', '9\\n', '5\\n', '5\\n', '3\\n', '9\\n', '1\\n', '4\\n', '7\\n', '6\\n', '1\\n', '2\\n', '1\\n', '2\\n', '6\\n', '4\\n', '6\\n', '3\\n', '1\\n', '9\\n', '3\\n', '4\\n', '7\\n', '6\\n', '3\\n', '5\\n', '3\\n', '7\\n', '6\\n', '7\\n', '9\\n', '9\\n', '2\\n', '3\\n', '6\\n', '8\\n', '9\\n', '9\\n', '2\\n', '3\\n', '6\\n', '8\\n', '6\\n', '8\\n', '6\\n', '4\\n', '4\\n', '4\\n', '9\\n', '9\\n', '5\\n', '3\\n', '7\\n', '2\\n', '3\\n', '2\\n', '5\\n', '4\\n', '8\\n', '9\\n', '8\\n', '4\\n', '2\\n', '3\\n', '6\\n', '5\\n', '8\\n', '4\\n', '2\\n', '2\\n', '4\\n', '4\\n', '5\\n', '2\\n', '5\\n', '3\\n', '7\\n', '6\\n', '1\\n', '3\\n', '9\\n', '2\\n', '1\\n', '3\\n', '6\\n', '6\\n', '8\\n', '6\\n', '9\\n', '5\\n', '2\\n', '1\\n', '3\\n', '5\\n', '3\\n', '3\\n', '9\\n', '4\\n', '9\\n', '7\\n', '6\\n', '4\\n', '6\\n', '6\\n', '7\\n', '9\\n', '1\\n', '1\\n', '2\\n', '9\\n', '2\\n', '6\\n', '7\\n', '5\\n', '8\\n', '9\\n', '9\\n', '9\\n', '2\\n', '8\\n', '1\\n', '3\\n', '3\\n', '5\\n', '6\\n', '7\\n', '8\\n', '4\\n', '3\\n', '5\\n', '5\\n', '5\\n', '9\\n', '2\\n', '7\\n', '7\\n', '7\\n', '2\\n', '4\\n', '6\\n', '3\\n', '1\\n', '4\\n', '2\\n', '7\\n', '9\\n', '9\\n', '6\\n', '3\\n', '6\\n', '5\\n', '1\\n', '7\\n', '1\\n', '5\\n', '9\\n', '1\\n', '4\\n', '2\\n', '3\\n', '4\\n', '7\\n', '2\\n', '9\\n', '4\\n', '1\\n', '8\\n', '6\\n', '1\\n', '3\\n', '9\\n', '1\\n', '3\\n', '3\\n', '4\\n', '6\\n', '9\\n', '6\\n', '1\\n', '1\\n', '6\\n', '2\\n', '5\\n', '8\\n', '3\\n', '8\\n', '8\\n', '8\\n', '7\\n', '6\\n', '5\\n', '4\\n', '5\\n', '5\\n', '9\\n', '2\\n', '6\\n', '5\\n', '1\\n', '6\\n', '7\\n', '4\\n', '2\\n', '7\\n', '9\\n', '9\\n', '8\\n', '8\\n', '6\\n', '9\\n', '5\\n', '2\\n', '6\\n', '1\\n', '1\\n', '5\\n']\n"
     ]
    }
   ],
   "source": [
    "# Put all the forwards here\n",
    "forward = []\n",
    "\n",
    "# Put all the downs/ups here\n",
    "down = []\n",
    "up = []\n",
    "\n",
    "# Filter terms into 3 lists\n",
    "# Filter out the name of the list (forward/down/up)\n",
    "\n",
    "for direction in course_list:\n",
    "    if direction.startswith('forward'):\n",
    "        forward.append(direction.replace('forward ', ''))\n",
    "    elif direction.startswith('down'):\n",
    "        down.append(direction.replace('down ', ''))\n",
    "    elif direction.startswith('up'):\n",
    "        up.append(direction.replace('up ', ''))    \n",
    "    \n",
    "# Check what's in my lists\n",
    "print('forward = ' + str(forward))\n",
    "print('down = ' + str(down))\n",
    "print('up = ' + str(up))"
   ]
  },
  {
   "cell_type": "code",
   "execution_count": 5,
   "metadata": {},
   "outputs": [
    {
     "name": "stdout",
     "output_type": "stream",
     "text": [
      "forward = [2, 3, 5, 6, 8, 4, 7, 5, 5, 8, 5, 3, 9, 1, 7, 3, 5, 2, 7, 1, 2, 8, 3, 9, 3, 7, 7, 6, 2, 9, 4, 4, 6, 4, 9, 8, 4, 6, 9, 2, 6, 9, 9, 2, 1, 8, 8, 2, 2, 9, 1, 8, 2, 8, 2, 9, 5, 3, 1, 8, 1, 6, 6, 2, 6, 3, 9, 8, 7, 9, 4, 1, 5, 3, 7, 2, 9, 2, 4, 5, 3, 1, 8, 7, 8, 1, 4, 9, 7, 7, 3, 6, 5, 4, 8, 7, 7, 9, 5, 2, 2, 2, 1, 3, 5, 9, 5, 3, 3, 8, 7, 8, 5, 5, 2, 4, 9, 9, 3, 6, 9, 2, 4, 8, 7, 5, 2, 5, 7, 5, 4, 5, 7, 8, 6, 7, 2, 8, 9, 4, 7, 9, 8, 4, 4, 3, 6, 7, 7, 3, 8, 1, 2, 8, 6, 3, 8, 1, 9, 6, 1, 7, 1, 9, 8, 2, 6, 6, 6, 2, 3, 8, 1, 4, 5, 4, 5, 3, 6, 4, 3, 1, 7, 3, 8, 6, 1, 6, 7, 6, 6, 4, 2, 7, 5, 2, 7, 8, 3, 4, 6, 2, 2, 5, 5, 6, 1, 3, 2, 2, 5, 2, 4, 8, 9, 8, 2, 2, 8, 1, 4, 7, 6, 9, 6, 5, 9, 3, 3, 7, 3, 9, 8, 9, 8, 6, 6, 4, 7, 8, 9, 7, 6, 3, 8, 3, 5, 5, 9, 5, 7, 8, 7, 6, 3, 1, 2, 3, 4, 5, 4, 7, 2, 2, 7, 8, 7, 7, 9, 7, 8, 2, 2, 9, 4, 4, 9, 2, 2, 3, 7, 9, 3, 3, 4, 8, 7, 4, 7, 9, 1, 3, 2, 9, 6, 9, 8, 1, 9, 9, 1, 1, 3, 6, 7, 1, 5, 8, 4, 2, 5, 3, 6, 1, 2, 3, 3, 9, 7, 8, 9, 7, 5, 5, 9, 3, 8, 8, 6, 8, 3, 8, 9, 2, 9, 5, 6, 3, 8, 1, 1, 2, 7, 6, 7, 9, 7, 7, 3, 8, 7, 8, 2, 7, 4, 3, 8, 2, 9, 7, 8, 9, 3, 2, 3, 3, 2, 4]\n",
      "down = [7, 4, 9, 5, 4, 8, 1, 7, 1, 4, 4, 8, 4, 1, 3, 6, 3, 3, 8, 3, 5, 5, 3, 4, 9, 7, 9, 3, 7, 6, 5, 1, 9, 9, 1, 1, 5, 4, 4, 2, 8, 5, 8, 8, 5, 1, 7, 1, 6, 8, 8, 2, 9, 9, 9, 3, 4, 3, 9, 3, 3, 1, 9, 4, 4, 6, 2, 4, 3, 4, 3, 6, 1, 1, 5, 3, 5, 6, 6, 9, 4, 3, 1, 5, 6, 7, 5, 9, 4, 3, 2, 4, 7, 2, 2, 8, 7, 7, 5, 9, 1, 7, 7, 7, 3, 5, 2, 9, 6, 1, 3, 7, 5, 8, 1, 4, 8, 6, 8, 7, 4, 6, 1, 7, 9, 2, 7, 7, 6, 2, 9, 4, 1, 6, 1, 4, 5, 3, 9, 3, 9, 2, 2, 7, 3, 3, 2, 3, 9, 9, 7, 1, 2, 8, 1, 3, 6, 2, 7, 2, 3, 7, 3, 2, 4, 2, 4, 3, 9, 2, 7, 5, 6, 4, 6, 9, 9, 8, 9, 9, 7, 8, 6, 5, 9, 3, 5, 2, 7, 4, 6, 8, 4, 2, 9, 7, 4, 4, 7, 6, 4, 1, 4, 7, 9, 3, 4, 5, 1, 1, 9, 5, 4, 3, 2, 3, 5, 1, 8, 5, 6, 2, 1, 5, 7, 5, 1, 8, 2, 2, 9, 7, 4, 4, 8, 9, 2, 7, 4, 1, 2, 1, 3, 1, 4, 4, 7, 5, 1, 1, 3, 5, 8, 1, 3, 2, 1, 9, 7, 4, 3, 1, 4, 6, 8, 9, 9, 8, 1, 3, 2, 2, 6, 9, 5, 2, 3, 6, 5, 2, 6, 1, 4, 7, 4, 8, 7, 1, 3, 6, 5, 3, 9, 8, 6, 1, 6, 7, 6, 9, 6, 6, 1, 2, 3, 4, 7, 7, 3, 1, 3, 4, 4, 2, 9, 2, 6, 5, 4, 4, 2, 9, 5, 3, 6, 7, 4, 8, 4, 5, 7, 3, 1, 9, 1, 3, 2, 7, 2, 5, 8, 1, 7, 5, 7, 6, 6, 6, 8, 3, 6, 9, 9, 7, 6, 1, 1, 5, 9, 9, 5, 9, 1, 3, 4, 5, 1, 6, 4, 3, 6, 3, 9, 1, 2, 7, 7, 2, 3, 5, 9, 7, 8, 1, 2, 3, 3, 2, 1, 2, 1, 9, 4, 6, 4, 1, 4, 7, 3, 5, 8, 4, 9, 6, 2, 6, 8, 3, 5, 3, 8, 3]\n",
      "up = [5, 9, 7, 1, 3, 9, 5, 5, 3, 9, 1, 4, 7, 6, 1, 2, 1, 2, 6, 4, 6, 3, 1, 9, 3, 4, 7, 6, 3, 5, 3, 7, 6, 7, 9, 9, 2, 3, 6, 8, 9, 9, 2, 3, 6, 8, 6, 8, 6, 4, 4, 4, 9, 9, 5, 3, 7, 2, 3, 2, 5, 4, 8, 9, 8, 4, 2, 3, 6, 5, 8, 4, 2, 2, 4, 4, 5, 2, 5, 3, 7, 6, 1, 3, 9, 2, 1, 3, 6, 6, 8, 6, 9, 5, 2, 1, 3, 5, 3, 3, 9, 4, 9, 7, 6, 4, 6, 6, 7, 9, 1, 1, 2, 9, 2, 6, 7, 5, 8, 9, 9, 9, 2, 8, 1, 3, 3, 5, 6, 7, 8, 4, 3, 5, 5, 5, 9, 2, 7, 7, 7, 2, 4, 6, 3, 1, 4, 2, 7, 9, 9, 6, 3, 6, 5, 1, 7, 1, 5, 9, 1, 4, 2, 3, 4, 7, 2, 9, 4, 1, 8, 6, 1, 3, 9, 1, 3, 3, 4, 6, 9, 6, 1, 1, 6, 2, 5, 8, 3, 8, 8, 8, 7, 6, 5, 4, 5, 5, 9, 2, 6, 5, 1, 6, 7, 4, 2, 7, 9, 9, 8, 8, 6, 9, 5, 2, 6, 1, 1, 5]\n"
     ]
    }
   ],
   "source": [
    "# Convert lists of strings into lists of integers\n",
    "\n",
    "#forward_test = ([int(item) for item in forward])\n",
    "forward = list(map(int, forward))\n",
    "down = list(map(int, down))\n",
    "up = list(map(int, up))\n",
    "\n",
    "# Check what's in my lists\n",
    "print('forward = ' + str(forward))\n",
    "print('down = ' + str(down))\n",
    "print('up = ' + str(up))"
   ]
  },
  {
   "cell_type": "code",
   "execution_count": 6,
   "metadata": {},
   "outputs": [
    {
     "name": "stdout",
     "output_type": "stream",
     "text": [
      "total forward = 1925\n",
      "total depth = \n",
      "879\n"
     ]
    }
   ],
   "source": [
    "# Add them all up\n",
    "# Up needs to be subtracted\n",
    "\n",
    "print('total forward = ' + str(sum(forward)))\n",
    "#print(sum(down))\n",
    "#print(sum(up))\n",
    "print('total depth = ')\n",
    "print( (sum(down) - sum(up)) )"
   ]
  },
  {
   "cell_type": "code",
   "execution_count": 7,
   "metadata": {},
   "outputs": [
    {
     "data": {
      "text/plain": [
       "1692075"
      ]
     },
     "execution_count": 7,
     "metadata": {},
     "output_type": "execute_result"
    }
   ],
   "source": [
    "# Multiply horizontal (forward) and depth\n",
    "\n",
    "sum(forward) * (sum(down) - sum(up))"
   ]
  },
  {
   "cell_type": "markdown",
   "metadata": {},
   "source": [
    "third value, aim, which also starts at 0. The commands also mean something entirely different than you first thought:\n",
    "\n",
    "- down X increases your aim by X units.\n",
    "- up X decreases your aim by X units.\n",
    "- forward X does two things:\n",
    "    - It increases your horizontal position by X units.\n",
    "    - It increases your depth by your aim multiplied by X.\n",
    "\n",
    "Again note that since you're on a submarine, down and up do the opposite of what you might expect: \"down\" means aiming in the positive direction."
   ]
  },
  {
   "cell_type": "markdown",
   "metadata": {},
   "source": [
    "Now, the above example does something different:\n",
    "\n",
    "- forward 5 adds 5 to your horizontal position, a total of 5. \n",
    "    - Because your aim is 0, your depth does not change.\n",
    "- down 5 adds 5 to your aim, resulting in a value of 5.\n",
    "- forward 8 adds 8 to your horizontal position, a total of 13. \n",
    "    - Because your aim is 5, your depth increases by 8*5=40.\n",
    "- up 3 decreases your aim by 3, resulting in a value of 2.\n",
    "- down 8 adds 8 to your aim, resulting in a value of 10.\n",
    "- forward 2 adds 2 to your horizontal position, a total of 15. \n",
    "    - Because your aim is 10, your depth increases by 2*10=20 to a total of 60."
   ]
  },
  {
   "cell_type": "code",
   "execution_count": 8,
   "metadata": {},
   "outputs": [],
   "source": [
    "# Example\n",
    "course_list = ['forward 5', 'down 5', 'forward 8', 'up 3', 'down 8', 'forward 2']\n",
    "\n",
    "# total horizontal (forward) = 15 (unchanged)\n",
    "# total depth = 60 (CHANGED)"
   ]
  },
  {
   "cell_type": "code",
   "execution_count": 9,
   "metadata": {},
   "outputs": [
    {
     "name": "stdout",
     "output_type": "stream",
     "text": [
      "forward = 5\n",
      "depth = 0\n",
      "aim = 0\n",
      "~~~~~~~~~\n",
      "forward = 5\n",
      "depth = 0\n",
      "aim = 5\n",
      "~~~~~~~~~\n",
      "forward = 13\n",
      "depth = 40\n",
      "aim = 5\n",
      "~~~~~~~~~\n",
      "forward = 13\n",
      "depth = 40\n",
      "aim = 2\n",
      "~~~~~~~~~\n",
      "forward = 13\n",
      "depth = 40\n",
      "aim = 10\n",
      "~~~~~~~~~\n",
      "forward = 15\n",
      "depth = 60\n",
      "aim = 10\n",
      "~~~~~~~~~\n",
      "final acnswer = 900\n"
     ]
    }
   ],
   "source": [
    "# Change these to integers and do by each occurance\n",
    "# Put all the forwards here\n",
    "forward = 0\n",
    "\n",
    "# Put all the downs/ups here\n",
    "#? Q) Should this just be 1 var? directly add/subtract immediately upon encountering it?\n",
    "depth = 0\n",
    "\n",
    "# New var for aim\n",
    "# Multiply aim by X change\n",
    "aim = 0\n",
    "\n",
    "# Filter by each item of list\n",
    "# Filter out the name of the list (forward/down/up)\n",
    "# Add to the respective variable\n",
    "\n",
    "for direction in course_list:\n",
    "    \n",
    "    if direction.startswith('down'):\n",
    "        current_direction = int(direction.replace('down ', ''))\n",
    "        #depth += current_direction\n",
    "        aim += current_direction\n",
    "        \n",
    "    elif direction.startswith('up'):\n",
    "        current_direction = int(direction.replace('up ', ''))  \n",
    "        #depth -= current_direction\n",
    "        aim -= current_direction\n",
    "        \n",
    "    elif direction.startswith('forward'):\n",
    "        current_direction = int(direction.replace('forward ', ''))\n",
    "        forward += current_direction\n",
    "        depth += aim * current_direction\n",
    "        \n",
    "    # Check what changed each item\n",
    "    #* TODO: comment this out for final\n",
    "    print('forward = ' + str(forward))\n",
    "    print('depth = ' + str(depth))\n",
    "    print('aim = ' + str(aim))\n",
    "    print('~~~~~~~~~')\n",
    "    \n",
    "# Final answer \n",
    "print('final answer = ' + str(forward * depth))"
   ]
  },
  {
   "cell_type": "code",
   "execution_count": 10,
   "metadata": {},
   "outputs": [],
   "source": [
    "# This time I'm going to replace the Example block above\n",
    "# Instead, this will now be the real puzzle input\n",
    "\n",
    "# This section imports in puzzle input as a list\n",
    "\n",
    "course_list = []\n",
    "\n",
    "with open('day_2_puzzle_input.txt') as file:\n",
    "    for line in file:\n",
    "        course_list.append(line)\n",
    "\n",
    "#print(course_list)"
   ]
  },
  {
   "cell_type": "code",
   "execution_count": 11,
   "metadata": {},
   "outputs": [
    {
     "name": "stdout",
     "output_type": "stream",
     "text": [
      "final acnswer = 1751216775\n"
     ]
    }
   ],
   "source": [
    "# With real puzzle input\n",
    "# Change these to integers and do by each occurance\n",
    "# Put all the forwards here\n",
    "forward = 0\n",
    "\n",
    "# Put all the downs/ups here\n",
    "#? Q) Should this just be 1 var? directly add/subtract immediately upon encountering it?\n",
    "depth = 0\n",
    "\n",
    "# New var for aim\n",
    "# Multiply aim by X change\n",
    "aim = 0\n",
    "\n",
    "# Filter by each item of list\n",
    "# Filter out the name of the list (forward/down/up)\n",
    "# Add to the respective variable\n",
    "\n",
    "for direction in course_list:\n",
    "    \n",
    "    if direction.startswith('down'):\n",
    "        current_direction = int(direction.replace('down ', ''))\n",
    "        depth += current_direction\n",
    "        aim += current_direction\n",
    "        \n",
    "    elif direction.startswith('up'):\n",
    "        current_direction = int(direction.replace('up ', ''))  \n",
    "        depth -= current_direction\n",
    "        aim -= current_direction\n",
    "        \n",
    "    elif direction.startswith('forward'):\n",
    "        current_direction = int(direction.replace('forward ', ''))\n",
    "        forward += current_direction\n",
    "        depth += aim * current_direction\n",
    "        \n",
    "    # Check what changed each item\n",
    "    #* TODO: comment this out for final\n",
    "    # print('forward = ' + str(forward))\n",
    "    # print('depth = ' + str(depth))\n",
    "    # print('aim = ' + str(aim))\n",
    "    # print('~~~~~~~~~')\n",
    "    \n",
    "# Final answer \n",
    "print('final acnswer = ' + str(forward * depth))"
   ]
  }
 ],
 "metadata": {
  "interpreter": {
   "hash": "771a10e9912638bc1e3d9614f55e8788a2a6c82e1c07af3a7d7d70f175d18d28"
  },
  "kernelspec": {
   "display_name": "Python 3.8.11 64-bit ('data601-intro to DS': conda)",
   "language": "python",
   "name": "python3"
  },
  "language_info": {
   "codemirror_mode": {
    "name": "ipython",
    "version": 3
   },
   "file_extension": ".py",
   "mimetype": "text/x-python",
   "name": "python",
   "nbconvert_exporter": "python",
   "pygments_lexer": "ipython3",
   "version": "3.8.11"
  },
  "orig_nbformat": 4
 },
 "nbformat": 4,
 "nbformat_minor": 2
}
