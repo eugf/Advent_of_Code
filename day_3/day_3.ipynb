{
 "cells": [
  {
   "cell_type": "markdown",
   "metadata": {},
   "source": [
    "use the binary numbers in the diagnostic report to generate two new binary numbers (called the gamma rate and the epsilon rate). \n",
    "\n",
    "The power consumption can then be found by multiplying the gamma rate by the epsilon rate.\n",
    "\n",
    "Each bit in the gamma rate can be determined by finding the most common bit in the corresponding position of all numbers in the diagnostic report. \n",
    "\n",
    "Considering only the first bit of each number, there are five 0 bits and seven 1 bits. \n",
    "\n",
    "    - Since the most common bit is 1, the first bit of the gamma rate is 1.\n",
    "\n",
    "    - The most common second bit of the numbers in the diagnostic report is 0, so the second bit of the gamma rate is 0.\n",
    "    \n",
    "    - The most common value of the third, fourth, and fifth bits are 1, 1, and 0, respectively, and so the final three bits of the gamma rate are 110.\n",
    "\n",
    "So, the gamma rate is the binary number 10110, or 22 in decimal.\n",
    "\n",
    "The epsilon rate is calculated in a similar way; rather than use the most common bit, the least common bit from each position is used. So, the epsilon rate is 01001, or 9 in decimal. Multiplying the gamma rate (22) by the epsilon rate (9) produces the power consumption, 198."
   ]
  },
  {
   "cell_type": "code",
   "execution_count": 2,
   "metadata": {},
   "outputs": [
    {
     "name": "stdout",
     "output_type": "stream",
     "text": [
      "['00100', '11110', '10110', '10111', '10101', '01111', '00111', '11100', '10000', '11001', '00010', '01010']\n"
     ]
    }
   ],
   "source": [
    "# This section imports in puzzle input example as a list\n",
    "\n",
    "diagnostics = []\n",
    "\n",
    "with open('day_3_puzzle_input_ex.txt') as file:\n",
    "    for line in file:\n",
    "        diagnostics.append(line.rstrip('\\n'))\n",
    "\n",
    "print(diagnostics)"
   ]
  },
  {
   "cell_type": "code",
   "execution_count": 13,
   "metadata": {},
   "outputs": [
    {
     "name": "stdout",
     "output_type": "stream",
     "text": [
      "00100\n",
      "11110\n",
      "10110\n",
      "10111\n",
      "10101\n",
      "01111\n",
      "00111\n",
      "11100\n",
      "10000\n",
      "11001\n",
      "00010\n",
      "01010\n",
      "gamma rate =   011111110100\n",
      "epsilon rate = 100000001011\n"
     ]
    }
   ],
   "source": [
    "# Gamma and Epsilon are OPPOSITES\n",
    "# Count how many 1's OR 0's there are (pick only one of these) in each element\n",
    "# Divide by length of string for 50%\n",
    "# Then assume the opposite for the other one\n",
    "# Decode binary at the end\n",
    "\n",
    "# test = '00100'\n",
    "# if test.count('0')/len(test) > 0.5:\n",
    "#     print('banzai')\n",
    "\n",
    "def power_consumption(input):\n",
    "\n",
    "    # Gamma rate = most common bit\n",
    "    gamma_rate = ''\n",
    "    # Epsilon rate = least common bit\n",
    "    epsilon_rate = ''\n",
    "    # Total bits in a column\n",
    "    total_zeroes = 0\n",
    "    total_ones = 0\n",
    "    column = 0\n",
    "      \n",
    "    for item in input:\n",
    "        # Find total 0's and 1's in a column\n",
    "        while column < len(item):\n",
    "            if item[column] == '0':\n",
    "                total_zeroes += 1\n",
    "            elif item[column] == '1':\n",
    "                total_ones += 1\n",
    "            column += 1\n",
    "        \n",
    "        # Find Gamma rate by finding the most common bit\n",
    "        if item.count('0')/len(item) > 0.5:\n",
    "            gamma_rate += str(0)\n",
    "            epsilon_rate += str(1)\n",
    "            print(item)\n",
    "        else:\n",
    "            gamma_rate += str(1)\n",
    "            epsilon_rate += str(0)\n",
    "            print(item)\n",
    "    print('gamma rate =   ' + gamma_rate)\n",
    "    print('epsilon rate = ' + epsilon_rate)\n",
    "    \n",
    "power_consumption(diagnostics)\n"
   ]
  }
 ],
 "metadata": {
  "interpreter": {
   "hash": "771a10e9912638bc1e3d9614f55e8788a2a6c82e1c07af3a7d7d70f175d18d28"
  },
  "kernelspec": {
   "display_name": "Python 3.8.11 64-bit ('data601-intro to DS': conda)",
   "language": "python",
   "name": "python3"
  },
  "language_info": {
   "codemirror_mode": {
    "name": "ipython",
    "version": 3
   },
   "file_extension": ".py",
   "mimetype": "text/x-python",
   "name": "python",
   "nbconvert_exporter": "python",
   "pygments_lexer": "ipython3",
   "version": "3.8.11"
  },
  "orig_nbformat": 4
 },
 "nbformat": 4,
 "nbformat_minor": 2
}
