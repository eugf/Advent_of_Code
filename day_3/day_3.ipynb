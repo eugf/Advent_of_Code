{
 "cells": [
  {
   "cell_type": "markdown",
   "metadata": {},
   "source": [
    "use the binary numbers in the diagnostic report to generate two new binary numbers (called the gamma rate and the epsilon rate). \n",
    "\n",
    "The power consumption can then be found by multiplying the gamma rate by the epsilon rate.\n",
    "\n",
    "Each bit in the gamma rate can be determined by finding the most common bit in the corresponding position of all numbers in the diagnostic report. \n",
    "\n",
    "Considering only the first bit of each number, there are five 0 bits and seven 1 bits. \n",
    "\n",
    "    - Since the most common bit is 1, the first bit of the gamma rate is 1.\n",
    "\n",
    "    - The most common second bit of the numbers in the diagnostic report is 0, so the second bit of the gamma rate is 0.\n",
    "    \n",
    "    - The most common value of the third, fourth, and fifth bits are 1, 1, and 0, respectively, and so the final three bits of the gamma rate are 110.\n",
    "\n",
    "So, the gamma rate is the binary number 10110, or 22 in decimal.\n",
    "\n",
    "The epsilon rate is calculated in a similar way; rather than use the most common bit, the least common bit from each position is used. So, the epsilon rate is 01001, or 9 in decimal. Multiplying the gamma rate (22) by the epsilon rate (9) produces the power consumption, 198."
   ]
  },
  {
   "cell_type": "code",
   "execution_count": 1,
   "metadata": {},
   "outputs": [
    {
     "name": "stdout",
     "output_type": "stream",
     "text": [
      "['00100', '11110', '10110', '10111', '10101', '01111', '00111', '11100', '10000', '11001', '00010', '01010']\n"
     ]
    }
   ],
   "source": [
    "# This section imports in puzzle input example as a list\n",
    "\n",
    "diagnostics = []\n",
    "\n",
    "with open('day_3_puzzle_input_ex.txt') as file:\n",
    "    for line in file:\n",
    "        diagnostics.append(line.rstrip('\\n'))\n",
    "\n",
    "print(diagnostics)"
   ]
  },
  {
   "cell_type": "code",
   "execution_count": 7,
   "metadata": {},
   "outputs": [
    {
     "name": "stdout",
     "output_type": "stream",
     "text": [
      "00100\n",
      "0\n",
      "0\n",
      "11110\n",
      "0\n",
      "0\n",
      "10110\n",
      "0\n",
      "0\n",
      "10111\n",
      "0\n",
      "0\n",
      "10101\n",
      "0\n",
      "0\n",
      "01111\n",
      "0\n",
      "0\n",
      "00111\n",
      "0\n",
      "0\n",
      "11100\n",
      "0\n",
      "0\n",
      "10000\n",
      "0\n",
      "0\n",
      "11001\n",
      "0\n",
      "0\n",
      "00010\n",
      "0\n",
      "0\n",
      "01010\n",
      "0\n",
      "0\n"
     ]
    }
   ],
   "source": [
    "# Gamma and Epsilon are OPPOSITES\n",
    "# Count how many 1's OR 0's there are (pick only one of these) in each element\n",
    "# Divide by length of string for 50%\n",
    "# Then assume the opposite for the other one\n",
    "# Decode binary at the end\n",
    "   \n",
    "gamma_rate = '' # most common bit\n",
    "epsilon_rate = '' # least common bit\n",
    "\n",
    "# Which digit we're on\n",
    "column = 0\n",
    "\n",
    "# Only add +1 if 0 detected\n",
    "# To count the 1's, I will -1 if a 1 is detected\n",
    "# Final = 0 means even (shouldn't happen)\n",
    "# Positive = more 0's, Negative = more 1's\n",
    "\n",
    "total_zeroes = 0\n",
    "total_ones = 0\n",
    "\n",
    "\n",
    "for item in diagnostics:\n",
    "    print(item)\n",
    "    \n",
    "    while column < 5:\n",
    "        if item[column] == 0:\n",
    "            total_zeroes += 1\n",
    "            print('0')\n",
    "        elif item[column] == 1:\n",
    "            total_ones += 1\n",
    "            print('1')\n",
    "        column += 1\n",
    "        \n",
    "            # if total_zeroes > len(diagnostics)/2:\n",
    "            #     gamma_rate += '0'\n",
    "            #     epsilon_rate += '1'\n",
    "            #     print('0 wins')\n",
    "            #     break\n",
    "            # elif total_ones > len(diagnostics)/2:\n",
    "            #     gamma_rate += '1'\n",
    "            #     epsilon_rate += '0'\n",
    "            #     print('1 wins')\n",
    "            #     break\n",
    "        \n",
    "    print(total_ones)\n",
    "    print(total_zeroes)\n",
    "    "
   ]
  },
  {
   "cell_type": "code",
   "execution_count": 3,
   "metadata": {},
   "outputs": [
    {
     "data": {
      "text/plain": [
       "6.0"
      ]
     },
     "execution_count": 3,
     "metadata": {},
     "output_type": "execute_result"
    }
   ],
   "source": [
    "len(diagnostics)/2\n"
   ]
  },
  {
   "cell_type": "code",
   "execution_count": 10,
   "metadata": {},
   "outputs": [
    {
     "name": "stdout",
     "output_type": "stream",
     "text": [
      "0\n",
      "0\n",
      "1\n",
      "0\n",
      "0\n",
      "4\n",
      "00100\n",
      "4\n",
      "11110\n",
      "4\n",
      "10110\n",
      "4\n",
      "10111\n",
      "4\n",
      "10101\n",
      "4\n",
      "01111\n",
      "4\n",
      "00111\n",
      "4\n",
      "11100\n",
      "4\n",
      "10000\n",
      "4\n",
      "11001\n",
      "4\n",
      "00010\n",
      "4\n",
      "01010\n",
      "gamma rate =   011111110100\n",
      "epsilon rate = 100000001011\n"
     ]
    }
   ],
   "source": [
    "# Gamma and Epsilon are OPPOSITES\n",
    "# Count how many 1's OR 0's there are (pick only one of these) in each element\n",
    "# Divide by length of string for 50%\n",
    "# Then assume the opposite for the other one\n",
    "# Decode binary at the end\n",
    "\n",
    "def power_consumption(input):\n",
    "    \n",
    "    gamma_rate = '' # most common bit\n",
    "    epsilon_rate = '' # least common bit\n",
    "   \n",
    "    # Total bits in a column\n",
    "    column = 0\n",
    "    \n",
    "    # Only add +1 if 0 detected\n",
    "    # To count the 1's, I will -1 if a 1 is detected\n",
    "    # Final = 0 means even (shouldn't happen)\n",
    "    # Positive = more 0's, Negative = more 1's\n",
    "    total_zeroes = 0\n",
    "    total_ones = 0\n",
    "          \n",
    "    for item in input:\n",
    "        # Find total 0's and 1's in a column\n",
    "        while column < len(item):\n",
    "            if item[column] == '0':\n",
    "                total_zeroes += 1\n",
    "                print('0')\n",
    "            else:\n",
    "                total_ones += 1\n",
    "                print('1')\n",
    "            column += 1\n",
    "\n",
    "        print(total_zeroes)\n",
    "        print(total_ones)\n",
    "                \n",
    "        # Find Gamma rate by finding the most common bit\n",
    "        if item.count('0')/len(item) > 0.5:\n",
    "            gamma_rate += str(0)\n",
    "            epsilon_rate += str(1)\n",
    "            print(item)\n",
    "        else:\n",
    "            gamma_rate += str(1)\n",
    "            epsilon_rate += str(0)\n",
    "            print(item)\n",
    "    print('gamma rate =   ' + gamma_rate)\n",
    "    print('epsilon rate = ' + epsilon_rate)\n",
    "    \n",
    "power_consumption(diagnostics)\n"
   ]
  },
  {
   "cell_type": "code",
   "execution_count": 25,
   "metadata": {},
   "outputs": [
    {
     "name": "stdout",
     "output_type": "stream",
     "text": [
      "00100\n",
      "total 0's = 1\n",
      "11110\n",
      "total 1's = 1\n",
      "10110\n",
      "total 1's = 2\n",
      "10111\n",
      "total 1's = 3\n",
      "10101\n",
      "total 1's = 4\n",
      "01111\n"
     ]
    },
    {
     "ename": "IndexError",
     "evalue": "string index out of range",
     "output_type": "error",
     "traceback": [
      "\u001b[1;31m---------------------------------------------------------------------------\u001b[0m",
      "\u001b[1;31mIndexError\u001b[0m                                Traceback (most recent call last)",
      "\u001b[1;32m~\\AppData\\Local\\Temp/ipykernel_21952/492499412.py\u001b[0m in \u001b[0;36m<module>\u001b[1;34m\u001b[0m\n\u001b[0;32m     18\u001b[0m         \u001b[1;31m#print(bit)\u001b[0m\u001b[1;33m\u001b[0m\u001b[1;33m\u001b[0m\u001b[1;33m\u001b[0m\u001b[0m\n\u001b[0;32m     19\u001b[0m \u001b[1;33m\u001b[0m\u001b[0m\n\u001b[1;32m---> 20\u001b[1;33m     \u001b[1;32mif\u001b[0m \u001b[0mnumber\u001b[0m\u001b[1;33m[\u001b[0m\u001b[0mbit\u001b[0m\u001b[1;33m]\u001b[0m \u001b[1;33m==\u001b[0m \u001b[1;34m'0'\u001b[0m\u001b[1;33m:\u001b[0m\u001b[1;33m\u001b[0m\u001b[1;33m\u001b[0m\u001b[0m\n\u001b[0m\u001b[0;32m     21\u001b[0m         \u001b[0mtotal_zeroes\u001b[0m \u001b[1;33m+=\u001b[0m \u001b[1;36m1\u001b[0m\u001b[1;33m\u001b[0m\u001b[1;33m\u001b[0m\u001b[0m\n\u001b[0;32m     22\u001b[0m         \u001b[0mprint\u001b[0m\u001b[1;33m(\u001b[0m\u001b[1;34m\"total 0's = \"\u001b[0m \u001b[1;33m+\u001b[0m \u001b[0mstr\u001b[0m\u001b[1;33m(\u001b[0m\u001b[0mtotal_zeroes\u001b[0m\u001b[1;33m)\u001b[0m\u001b[1;33m)\u001b[0m\u001b[1;33m\u001b[0m\u001b[1;33m\u001b[0m\u001b[0m\n",
      "\u001b[1;31mIndexError\u001b[0m: string index out of range"
     ]
    }
   ],
   "source": [
    "# Variables\n",
    "gamma_rate = '' # most common bit\n",
    "epsilon_rate = '' # least common bit\n",
    "\n",
    "# Count each digit\n",
    "bit = 0 \n",
    "\n",
    "# Totals\n",
    "total_zeroes = 0\n",
    "total_ones = 0\n",
    "\n",
    "# Start program\n",
    "\n",
    "for number in diagnostics:\n",
    "    print(number)\n",
    "    \n",
    "    # for bit in number:\n",
    "        #print(bit)\n",
    "   \n",
    "    if number[bit] == '0':\n",
    "        total_zeroes += 1\n",
    "        print(\"total 0's = \" + str(total_zeroes))\n",
    "        \n",
    "    elif number[bit] == '1':\n",
    "        total_ones += 1\n",
    "        print(\"total 1's = \" + str(total_ones))\n",
    "\n",
    "    # Now check the next bit of each line\n",
    "    bit += 1\n",
    "        \n",
    "        \n",
    "        "
   ]
  }
 ],
 "metadata": {
  "interpreter": {
   "hash": "771a10e9912638bc1e3d9614f55e8788a2a6c82e1c07af3a7d7d70f175d18d28"
  },
  "kernelspec": {
   "display_name": "Python 3.8.11 64-bit ('data601-intro to DS': conda)",
   "language": "python",
   "name": "python3"
  },
  "language_info": {
   "codemirror_mode": {
    "name": "ipython",
    "version": 3
   },
   "file_extension": ".py",
   "mimetype": "text/x-python",
   "name": "python",
   "nbconvert_exporter": "python",
   "pygments_lexer": "ipython3",
   "version": "3.8.11"
  },
  "orig_nbformat": 4
 },
 "nbformat": 4,
 "nbformat_minor": 2
}
