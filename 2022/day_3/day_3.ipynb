{
 "cells": [
  {
   "attachments": {},
   "cell_type": "markdown",
   "metadata": {},
   "source": [
    "# Day_3\n",
    "\n",
    "### Part 1\n",
    "- Each rucksack has two large compartments\n",
    "- All items of a given type are meant to go into exactly one of the two compartments.\n",
    "  - failed to follow this rule for exactly one item type per rucksack\n",
    "- Every item type is identified by a single lowercase or uppercase letter \n",
    "  - (that is, a and A refer to different types of items)\n",
    "- The list of items for each rucksack is given as characters all on a single line. \n",
    "- A given rucksack always has the same number of items in each of its two compartments, \n",
    "  - so the first half of the characters represent items in the first compartment, while the second half of the characters represent items in the second compartment.\n",
    "- To help prioritize item rearrangement, every item type can be converted to a priority:\n",
    "  - Lowercase item types a through z have priorities 1 through 26.\n",
    "  - Uppercase item types A through Z have priorities 27 through 52."
   ]
  },
  {
   "attachments": {},
   "cell_type": "markdown",
   "metadata": {},
   "source": [
    "### PLAN\n",
    "1) For each line (rucksack):\n",
    "2) Split line in half (compartments)\n",
    "3) Check which element is \"in\" both halves\n",
    "- Case sensitive!\n",
    "4) Save those to another list???\n",
    "5) Convert letters to priority #'s\n",
    "6) Sum"
   ]
  },
  {
   "cell_type": "code",
   "execution_count": 13,
   "metadata": {},
   "outputs": [
    {
     "name": "stdout",
     "output_type": "stream",
     "text": [
      "rucksack =\n",
      " ['vJrwpWtwJgWrhcsFMMfFFhFp', 'jqHRNqRjqzjGDLGLrsFMfFZSrLrFZsSL', 'PmmdzqPrVvPwwTWBwg', 'wMqvLMZHhHMvwLHjbvcjnnSBnvTQFn', 'ttgJtRGJQctTZtZT', 'CrZsJsPPZsGzwwsLwLmpwMDw']\n"
     ]
    }
   ],
   "source": [
    "# Import sample\n",
    "# Replace later with actual input\n",
    "file_path = \"sample.txt\"\n",
    "#file_path = \"input.txt\"\n",
    "\n",
    "# Operation mode\n",
    "read = 'r'\n",
    "\n",
    "# Open file in read only mode, split into a list element at the newline symbol\n",
    "with open(file_path, read) as file:\n",
    "    line_contents = file.read().splitlines()\n",
    "\n",
    "# CHECK - list of lines\n",
    "print('rucksack =\\n', line_contents)"
   ]
  },
  {
   "cell_type": "code",
   "execution_count": 44,
   "metadata": {},
   "outputs": [
    {
     "name": "stdout",
     "output_type": "stream",
     "text": [
      "shared_list = ['p', 'L', 'L', 'P', 'P', 'v', 'v', 't', 't', 't', 's', 's', 's']\n"
     ]
    }
   ],
   "source": [
    "# Parse each element of the list (rucksack)\n",
    "# Split in half (compartment)\n",
    "\n",
    "shared_list = []\n",
    "\n",
    "for rucksack in line_contents:\n",
    "    #print('rucksack =', rucksack)\n",
    "    \n",
    "    # Get length of each rucksack, divide to find halfway point\n",
    "    half = int(len(rucksack)/2)\n",
    "    #print('half =', half)\n",
    "    \n",
    "    # Create 2 new variables to hold each half\n",
    "    compartment_1 = rucksack[:half]\n",
    "    compartment_2 = rucksack[half:]\n",
    "    #print('compartment_1 =', compartment_1)\n",
    "    #print('compartment_2 =', compartment_2)\n",
    "    \n",
    "    # Compare halves (compartments) looking for intersection of shared \n",
    "    # Add to shared_list when found\n",
    "    # NOTE: Python is case-sensitive\n",
    "    for item in compartment_1:\n",
    "        if item in compartment_2:\n",
    "            #print('item =', item)\n",
    "            shared_list.append(item)\n",
    "        \n",
    "print('shared_list =', shared_list)"
   ]
  },
  {
   "attachments": {},
   "cell_type": "markdown",
   "metadata": {},
   "source": [
    "KEY\n",
    "\n",
    "  - Lowercase item types a through z have priorities 1 through 26.\n",
    "  - Uppercase item types A through Z have priorities 27 through 52."
   ]
  },
  {
   "cell_type": "code",
   "execution_count": null,
   "metadata": {},
   "outputs": [],
   "source": [
    "# Convert letters into priority #'s \n",
    "# Create a dictionary of a-z and A-Z values???\n",
    "# Then assign them to the shared_list?\n",
    "\n",
    "priority_list = []"
   ]
  }
 ],
 "metadata": {
  "kernelspec": {
   "display_name": "data601-intro_to_DS_20220604",
   "language": "python",
   "name": "python3"
  },
  "language_info": {
   "codemirror_mode": {
    "name": "ipython",
    "version": 3
   },
   "file_extension": ".py",
   "mimetype": "text/x-python",
   "name": "python",
   "nbconvert_exporter": "python",
   "pygments_lexer": "ipython3",
   "version": "3.8.11"
  },
  "orig_nbformat": 4,
  "vscode": {
   "interpreter": {
    "hash": "a5adb98ea87b39128c04417b82f0eb38fddf700a75044eca86c4c4d90ac4201b"
   }
  }
 },
 "nbformat": 4,
 "nbformat_minor": 2
}
