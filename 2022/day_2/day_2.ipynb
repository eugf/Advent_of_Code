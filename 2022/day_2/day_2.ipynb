{
 "cells": [
  {
   "attachments": {},
   "cell_type": "markdown",
   "metadata": {},
   "source": [
    "### Part 1\n",
    "\n",
    "- encrypted strategy guide \n",
    "- \"The first column is what your opponent is going to play: \n",
    "  - A for Rock, \n",
    "  - B for Paper, and \n",
    "  - C for Scissors.\"\n",
    "- 2nd col is (unknown) \"encrypted\": X, Y, Z\n",
    "- GUESS: \n",
    "  - X for Rock, \n",
    "  - Y for Paper, and \n",
    "  - Z for Scissors.\n",
    "- The winner of the whole tournament is the player with the highest score.\n",
    "- Your total score is the sum of your scores for each round.\n",
    "- The score for a single round is the score for the shape you selected:\n",
    "  - 1 for Rock, \n",
    "  - 2 for Paper, \n",
    "  - and 3 for Scissors\n",
    "- plus the score for the outcome of the round:\n",
    "  - 0 if you lost, \n",
    "  - 3 if the round was a draw, \n",
    "  - and 6 if you won\n",
    "- Since you can't be sure if the Elf is trying to help you or trick you, you should calculate the score you would get if you were to follow the strategy guide."
   ]
  },
  {
   "attachments": {},
   "cell_type": "markdown",
   "metadata": {},
   "source": [
    "### PLAN:\n",
    "\n",
    "1st col (opponent):\n",
    "- A = Rock\n",
    "- B = Paper\n",
    "- C = Scissors\n",
    "\n",
    "2nd col (me):\n",
    "- X = Rock\n",
    "- Y = Paper\n",
    "- Z = Scissors\n",
    "\n",
    "Score for my selection\n",
    "- Rock = 1\n",
    "- Paper = 2\n",
    "- Scissors = 3\n",
    "\n",
    "Score for outcome\n",
    "- 0 = lose\n",
    "- 3 = draw\n",
    "- 6 = win\n",
    "\n",
    "0) Convert to Pandas DF\n",
    "1) Convert ABC into rock/paper/scissors\n",
    "2) Convert XYZ into rock/paper/scissors\n",
    "3) Calc outcome col\n",
    "4) Create selection col\n",
    "5) Score = outcome + selection"
   ]
  },
  {
   "cell_type": "code",
   "execution_count": 27,
   "metadata": {},
   "outputs": [
    {
     "name": "stdout",
     "output_type": "stream",
     "text": [
      "A Y\n",
      "B X\n",
      "C Z\n"
     ]
    }
   ],
   "source": [
    "# Import sample\n",
    "# Replace later with actual input\n",
    "file_path = \"sample.txt\"\n",
    "#file_path = \"input.txt\"\n",
    "\n",
    "# Operation mode\n",
    "read = 'r'\n",
    "\n",
    "# Open file in read only mode\n",
    "with open(file_path, read) as file:\n",
    "    file_contents = file.read()\n",
    "\n",
    "# CHECK - file contents\n",
    "print(file_contents)"
   ]
  },
  {
   "cell_type": "code",
   "execution_count": 28,
   "metadata": {},
   "outputs": [],
   "source": [
    "# Imports\n",
    "import pandas as pd"
   ]
  },
  {
   "cell_type": "code",
   "execution_count": 29,
   "metadata": {},
   "outputs": [
    {
     "data": {
      "text/html": [
       "<div>\n",
       "<style scoped>\n",
       "    .dataframe tbody tr th:only-of-type {\n",
       "        vertical-align: middle;\n",
       "    }\n",
       "\n",
       "    .dataframe tbody tr th {\n",
       "        vertical-align: top;\n",
       "    }\n",
       "\n",
       "    .dataframe thead th {\n",
       "        text-align: right;\n",
       "    }\n",
       "</style>\n",
       "<table border=\"1\" class=\"dataframe\">\n",
       "  <thead>\n",
       "    <tr style=\"text-align: right;\">\n",
       "      <th></th>\n",
       "      <th>0</th>\n",
       "      <th>1</th>\n",
       "    </tr>\n",
       "  </thead>\n",
       "  <tbody>\n",
       "    <tr>\n",
       "      <th>0</th>\n",
       "      <td>A</td>\n",
       "      <td>Y</td>\n",
       "    </tr>\n",
       "    <tr>\n",
       "      <th>1</th>\n",
       "      <td>B</td>\n",
       "      <td>X</td>\n",
       "    </tr>\n",
       "    <tr>\n",
       "      <th>2</th>\n",
       "      <td>C</td>\n",
       "      <td>Z</td>\n",
       "    </tr>\n",
       "  </tbody>\n",
       "</table>\n",
       "</div>"
      ],
      "text/plain": [
       "   0  1\n",
       "0  A  Y\n",
       "1  B  X\n",
       "2  C  Z"
      ]
     },
     "execution_count": 29,
     "metadata": {},
     "output_type": "execute_result"
    }
   ],
   "source": [
    "# Read file thru Pandas to create a DataFrame instead of the usual Python way\n",
    "# NOTE: it can't auto parse header or the space separator here, must define\n",
    "df = pd.read_csv(file_path,\n",
    "                 header = None,\n",
    "                 sep = ' ')\n",
    "df"
   ]
  },
  {
   "cell_type": "code",
   "execution_count": 30,
   "metadata": {},
   "outputs": [],
   "source": [
    "# Rename columns to make reading this easier\n",
    "df = df.rename(columns = {0: 'opponent', \n",
    "                          1: 'me'} )"
   ]
  },
  {
   "attachments": {},
   "cell_type": "markdown",
   "metadata": {},
   "source": [
    "KEY:\n",
    "\n",
    "1st col (opponent):\n",
    "- A = Rock\n",
    "- B = Paper\n",
    "- C = Scissors"
   ]
  },
  {
   "cell_type": "code",
   "execution_count": 31,
   "metadata": {},
   "outputs": [
    {
     "name": "stdout",
     "output_type": "stream",
     "text": [
      "   opponent me\n",
      "0      rock  Y\n",
      "1     paper  X\n",
      "2  scissors  Z\n"
     ]
    }
   ],
   "source": [
    "# Define conditionals to find and replace in 1st col of Pandas DF\n",
    "df.loc[df['opponent'] == 'A', 'opponent'] = 'rock'\n",
    "df.loc[df['opponent'] == 'B', 'opponent'] = 'paper'\n",
    "df.loc[df['opponent'] == 'C', 'opponent'] = 'scissors'\n",
    "print(df)"
   ]
  },
  {
   "attachments": {},
   "cell_type": "markdown",
   "metadata": {},
   "source": [
    "KEY:\n",
    "\n",
    "2nd col (me):\n",
    "- X = Rock\n",
    "- Y = Paper\n",
    "- Z = Scissors"
   ]
  },
  {
   "cell_type": "code",
   "execution_count": 32,
   "metadata": {},
   "outputs": [
    {
     "name": "stdout",
     "output_type": "stream",
     "text": [
      "   opponent        me\n",
      "0      rock     paper\n",
      "1     paper      rock\n",
      "2  scissors  scissors\n"
     ]
    }
   ],
   "source": [
    "# Define conditionals to find and replace in 2nd col of Pandas DF\n",
    "df.loc[df['me'] == 'X', 'me'] = 'rock'\n",
    "df.loc[df['me'] == 'Y', 'me'] = 'paper'\n",
    "df.loc[df['me'] == 'Z', 'me'] = 'scissors'\n",
    "print(df)"
   ]
  },
  {
   "attachments": {},
   "cell_type": "markdown",
   "metadata": {},
   "source": [
    "KEY\n",
    "\n",
    "Score for outcome\n",
    "- 0 = lost\n",
    "- 3 = draw\n",
    "- 6 = win"
   ]
  },
  {
   "cell_type": "code",
   "execution_count": 33,
   "metadata": {},
   "outputs": [
    {
     "name": "stdout",
     "output_type": "stream",
     "text": [
      "rock\n",
      "paper\n",
      "scissors\n"
     ]
    }
   ],
   "source": [
    "# TEST\n",
    "for row in df['opponent']:\n",
    "    print(row)\n",
    "    #print(df['opponent'][row])"
   ]
  },
  {
   "cell_type": "code",
   "execution_count": 34,
   "metadata": {},
   "outputs": [
    {
     "name": "stdout",
     "output_type": "stream",
     "text": [
      "whole row =  opponent    paper\n",
      "me           rock\n",
      "Name: 1, dtype: object\n",
      "~~~~~~~~~~~~~~~~~~~\n",
      "row x col = rock\n"
     ]
    }
   ],
   "source": [
    "# TEST\n",
    "print('whole row = ', df.iloc[1])\n",
    "print('~~~~~~~~~~~~~~~~~~~')\n",
    "print('row x col =', df.iloc[1]['me'])"
   ]
  },
  {
   "cell_type": "code",
   "execution_count": 35,
   "metadata": {},
   "outputs": [],
   "source": [
    "def calc_outcome(row):\n",
    "    '''\n",
    "    GOAL = Calc col #3 (outcome result) based on col #1 (opponent) and col #2 (me)\n",
    "    INPUT = DF row with rock/paper/scissors in columns\n",
    "    OUTPUT = win/lose result \n",
    "    '''\n",
    "    \n",
    "    # Run rock/paper/scissors outcome logic on current row \n",
    "    if (row['opponent'] == row['me']):\n",
    "        return 'draw'\n",
    "    elif (row['opponent'] == 'rock') & (row['me'] == 'scissor'):\n",
    "        return 'lose'\n",
    "    elif (row['opponent'] == 'rock') & (row['me'] == 'paper'):\n",
    "        return 'win'\n",
    "    elif (row['opponent'] == 'paper') & (row['me'] == 'rock'):\n",
    "        return 'lose'\n",
    "    elif (row['opponent'] == 'paper') & (row['me'] == 'scissor'):\n",
    "        return 'win'\n",
    "    elif (row['opponent'] == 'scissor') & (row['me'] == 'paper'):\n",
    "        return 'lose'\n",
    "    elif (row['opponent'] == 'scissor') & (row['me'] == 'rock'):\n",
    "        return 'win'\n",
    "    else:\n",
    "        return 'error'"
   ]
  },
  {
   "cell_type": "code",
   "execution_count": 36,
   "metadata": {},
   "outputs": [
    {
     "data": {
      "text/html": [
       "<div>\n",
       "<style scoped>\n",
       "    .dataframe tbody tr th:only-of-type {\n",
       "        vertical-align: middle;\n",
       "    }\n",
       "\n",
       "    .dataframe tbody tr th {\n",
       "        vertical-align: top;\n",
       "    }\n",
       "\n",
       "    .dataframe thead th {\n",
       "        text-align: right;\n",
       "    }\n",
       "</style>\n",
       "<table border=\"1\" class=\"dataframe\">\n",
       "  <thead>\n",
       "    <tr style=\"text-align: right;\">\n",
       "      <th></th>\n",
       "      <th>opponent</th>\n",
       "      <th>me</th>\n",
       "      <th>outcome</th>\n",
       "    </tr>\n",
       "  </thead>\n",
       "  <tbody>\n",
       "    <tr>\n",
       "      <th>0</th>\n",
       "      <td>rock</td>\n",
       "      <td>paper</td>\n",
       "      <td>win</td>\n",
       "    </tr>\n",
       "    <tr>\n",
       "      <th>1</th>\n",
       "      <td>paper</td>\n",
       "      <td>rock</td>\n",
       "      <td>lose</td>\n",
       "    </tr>\n",
       "    <tr>\n",
       "      <th>2</th>\n",
       "      <td>scissors</td>\n",
       "      <td>scissors</td>\n",
       "      <td>draw</td>\n",
       "    </tr>\n",
       "  </tbody>\n",
       "</table>\n",
       "</div>"
      ],
      "text/plain": [
       "   opponent        me outcome\n",
       "0      rock     paper     win\n",
       "1     paper      rock    lose\n",
       "2  scissors  scissors    draw"
      ]
     },
     "execution_count": 36,
     "metadata": {},
     "output_type": "execute_result"
    }
   ],
   "source": [
    "# Apply rock/paper/scissors outcome logic to each row of DF \n",
    "# Save to new outcome column\n",
    "df['outcome'] = df.apply(calc_outcome, axis = 1)\n",
    "df"
   ]
  },
  {
   "attachments": {},
   "cell_type": "markdown",
   "metadata": {},
   "source": [
    "KEY\n",
    "\n",
    "Score for outcome\n",
    "- 0 = lose\n",
    "- 3 = draw\n",
    "- 6 = win"
   ]
  },
  {
   "cell_type": "code",
   "execution_count": 37,
   "metadata": {},
   "outputs": [],
   "source": [
    "def calc_outcome_score(row):\n",
    "    '''\n",
    "    GOAL = Calc col #4 (outcome score) based on col #3 results\n",
    "    INPUT = Col #3 (outcome result)\n",
    "    OUTPUT = Integer\n",
    "    '''\n",
    "    \n",
    "    # Check col #3 (outcome result) to assign col #4 (outcome score) \n",
    "    if row['outcome'] == 'lose':\n",
    "        return 0\n",
    "    elif row['outcome'] == 'draw':\n",
    "        return 3\n",
    "    elif row['outcome'] == 'win':\n",
    "        return 6\n",
    "    else:\n",
    "        return 'error'"
   ]
  },
  {
   "cell_type": "code",
   "execution_count": 38,
   "metadata": {},
   "outputs": [
    {
     "data": {
      "text/html": [
       "<div>\n",
       "<style scoped>\n",
       "    .dataframe tbody tr th:only-of-type {\n",
       "        vertical-align: middle;\n",
       "    }\n",
       "\n",
       "    .dataframe tbody tr th {\n",
       "        vertical-align: top;\n",
       "    }\n",
       "\n",
       "    .dataframe thead th {\n",
       "        text-align: right;\n",
       "    }\n",
       "</style>\n",
       "<table border=\"1\" class=\"dataframe\">\n",
       "  <thead>\n",
       "    <tr style=\"text-align: right;\">\n",
       "      <th></th>\n",
       "      <th>opponent</th>\n",
       "      <th>me</th>\n",
       "      <th>outcome</th>\n",
       "      <th>outcome_score</th>\n",
       "    </tr>\n",
       "  </thead>\n",
       "  <tbody>\n",
       "    <tr>\n",
       "      <th>0</th>\n",
       "      <td>rock</td>\n",
       "      <td>paper</td>\n",
       "      <td>win</td>\n",
       "      <td>6</td>\n",
       "    </tr>\n",
       "    <tr>\n",
       "      <th>1</th>\n",
       "      <td>paper</td>\n",
       "      <td>rock</td>\n",
       "      <td>lose</td>\n",
       "      <td>0</td>\n",
       "    </tr>\n",
       "    <tr>\n",
       "      <th>2</th>\n",
       "      <td>scissors</td>\n",
       "      <td>scissors</td>\n",
       "      <td>draw</td>\n",
       "      <td>3</td>\n",
       "    </tr>\n",
       "  </tbody>\n",
       "</table>\n",
       "</div>"
      ],
      "text/plain": [
       "   opponent        me outcome  outcome_score\n",
       "0      rock     paper     win              6\n",
       "1     paper      rock    lose              0\n",
       "2  scissors  scissors    draw              3"
      ]
     },
     "execution_count": 38,
     "metadata": {},
     "output_type": "execute_result"
    }
   ],
   "source": [
    "# Apply outcome_score calculation to each row of DF \n",
    "# Save to new outcome_score column\n",
    "df['outcome_score'] = df.apply(calc_outcome_score, axis = 1)\n",
    "df"
   ]
  },
  {
   "attachments": {},
   "cell_type": "markdown",
   "metadata": {},
   "source": [
    "KEY\n",
    "\n",
    "Score for my selection\n",
    "- Rock = 1\n",
    "- Paper = 2\n",
    "- Scissors = 3\n",
    " "
   ]
  },
  {
   "cell_type": "code",
   "execution_count": 39,
   "metadata": {},
   "outputs": [],
   "source": [
    "def calc_selection_score(row):\n",
    "    '''\n",
    "    GOAL = Calc col #5 (selection score) based on col #2 selection\n",
    "    INPUT = Col #2 (selection)\n",
    "    OUTPUT = Integer\n",
    "    '''\n",
    "    \n",
    "    # Check col #2 selection (me) to assign col #5 (selection score) \n",
    "    if row['me'] == 'rock':\n",
    "        return 1\n",
    "    elif row['me'] == 'paper':\n",
    "        return 2\n",
    "    elif row['me'] == 'scissors':\n",
    "        return 3\n",
    "    else:\n",
    "        return 'error'"
   ]
  },
  {
   "cell_type": "code",
   "execution_count": 40,
   "metadata": {},
   "outputs": [
    {
     "data": {
      "text/html": [
       "<div>\n",
       "<style scoped>\n",
       "    .dataframe tbody tr th:only-of-type {\n",
       "        vertical-align: middle;\n",
       "    }\n",
       "\n",
       "    .dataframe tbody tr th {\n",
       "        vertical-align: top;\n",
       "    }\n",
       "\n",
       "    .dataframe thead th {\n",
       "        text-align: right;\n",
       "    }\n",
       "</style>\n",
       "<table border=\"1\" class=\"dataframe\">\n",
       "  <thead>\n",
       "    <tr style=\"text-align: right;\">\n",
       "      <th></th>\n",
       "      <th>opponent</th>\n",
       "      <th>me</th>\n",
       "      <th>outcome</th>\n",
       "      <th>outcome_score</th>\n",
       "      <th>selection_score</th>\n",
       "    </tr>\n",
       "  </thead>\n",
       "  <tbody>\n",
       "    <tr>\n",
       "      <th>0</th>\n",
       "      <td>rock</td>\n",
       "      <td>paper</td>\n",
       "      <td>win</td>\n",
       "      <td>6</td>\n",
       "      <td>2</td>\n",
       "    </tr>\n",
       "    <tr>\n",
       "      <th>1</th>\n",
       "      <td>paper</td>\n",
       "      <td>rock</td>\n",
       "      <td>lose</td>\n",
       "      <td>0</td>\n",
       "      <td>1</td>\n",
       "    </tr>\n",
       "    <tr>\n",
       "      <th>2</th>\n",
       "      <td>scissors</td>\n",
       "      <td>scissors</td>\n",
       "      <td>draw</td>\n",
       "      <td>3</td>\n",
       "      <td>3</td>\n",
       "    </tr>\n",
       "  </tbody>\n",
       "</table>\n",
       "</div>"
      ],
      "text/plain": [
       "   opponent        me outcome  outcome_score  selection_score\n",
       "0      rock     paper     win              6                2\n",
       "1     paper      rock    lose              0                1\n",
       "2  scissors  scissors    draw              3                3"
      ]
     },
     "execution_count": 40,
     "metadata": {},
     "output_type": "execute_result"
    }
   ],
   "source": [
    "# Apply selection_score calculation to each row of DF \n",
    "# Save to new selection_score column\n",
    "df['selection_score'] = df.apply(calc_selection_score, axis = 1)\n",
    "df"
   ]
  },
  {
   "attachments": {},
   "cell_type": "markdown",
   "metadata": {},
   "source": [
    "KEY\n",
    "\n",
    "Final score = outcome + selection"
   ]
  },
  {
   "cell_type": "code",
   "execution_count": 43,
   "metadata": {},
   "outputs": [],
   "source": [
    "def calc_final_score(row):\n",
    "    '''\n",
    "    GOAL = Calc col #6 (final_score) based on col #4 (outcome_score) + col #5 (selection_score)\n",
    "    INPUT = Col #4 (outcome_score), col #5 (selection_score)\n",
    "    OUTPUT = Integer\n",
    "    '''\n",
    "    \n",
    "    # Add up col #4 (outcome_score) and col #5 (selection_score) \n",
    "    return row['outcome_score'] + row['selection_score']"
   ]
  },
  {
   "cell_type": "code",
   "execution_count": 44,
   "metadata": {},
   "outputs": [
    {
     "data": {
      "text/html": [
       "<div>\n",
       "<style scoped>\n",
       "    .dataframe tbody tr th:only-of-type {\n",
       "        vertical-align: middle;\n",
       "    }\n",
       "\n",
       "    .dataframe tbody tr th {\n",
       "        vertical-align: top;\n",
       "    }\n",
       "\n",
       "    .dataframe thead th {\n",
       "        text-align: right;\n",
       "    }\n",
       "</style>\n",
       "<table border=\"1\" class=\"dataframe\">\n",
       "  <thead>\n",
       "    <tr style=\"text-align: right;\">\n",
       "      <th></th>\n",
       "      <th>opponent</th>\n",
       "      <th>me</th>\n",
       "      <th>outcome</th>\n",
       "      <th>outcome_score</th>\n",
       "      <th>selection_score</th>\n",
       "      <th>final_score</th>\n",
       "    </tr>\n",
       "  </thead>\n",
       "  <tbody>\n",
       "    <tr>\n",
       "      <th>0</th>\n",
       "      <td>rock</td>\n",
       "      <td>paper</td>\n",
       "      <td>win</td>\n",
       "      <td>6</td>\n",
       "      <td>2</td>\n",
       "      <td>8</td>\n",
       "    </tr>\n",
       "    <tr>\n",
       "      <th>1</th>\n",
       "      <td>paper</td>\n",
       "      <td>rock</td>\n",
       "      <td>lose</td>\n",
       "      <td>0</td>\n",
       "      <td>1</td>\n",
       "      <td>1</td>\n",
       "    </tr>\n",
       "    <tr>\n",
       "      <th>2</th>\n",
       "      <td>scissors</td>\n",
       "      <td>scissors</td>\n",
       "      <td>draw</td>\n",
       "      <td>3</td>\n",
       "      <td>3</td>\n",
       "      <td>6</td>\n",
       "    </tr>\n",
       "  </tbody>\n",
       "</table>\n",
       "</div>"
      ],
      "text/plain": [
       "   opponent        me outcome  outcome_score  selection_score  final_score\n",
       "0      rock     paper     win              6                2            8\n",
       "1     paper      rock    lose              0                1            1\n",
       "2  scissors  scissors    draw              3                3            6"
      ]
     },
     "execution_count": 44,
     "metadata": {},
     "output_type": "execute_result"
    }
   ],
   "source": [
    "# Apply selection_score calculation to each row of DF \n",
    "# Save to new selection_score column\n",
    "df['final_score'] = df.apply(calc_final_score, axis = 1)\n",
    "df"
   ]
  },
  {
   "cell_type": "code",
   "execution_count": 45,
   "metadata": {},
   "outputs": [],
   "source": [
    "#??????????????"
   ]
  }
 ],
 "metadata": {
  "kernelspec": {
   "display_name": "data601-intro_to_DS_20220604",
   "language": "python",
   "name": "python3"
  },
  "language_info": {
   "codemirror_mode": {
    "name": "ipython",
    "version": 3
   },
   "file_extension": ".py",
   "mimetype": "text/x-python",
   "name": "python",
   "nbconvert_exporter": "python",
   "pygments_lexer": "ipython3",
   "version": "3.8.11"
  },
  "orig_nbformat": 4,
  "vscode": {
   "interpreter": {
    "hash": "a5adb98ea87b39128c04417b82f0eb38fddf700a75044eca86c4c4d90ac4201b"
   }
  }
 },
 "nbformat": 4,
 "nbformat_minor": 2
}
