{
 "cells": [
  {
   "attachments": {},
   "cell_type": "markdown",
   "metadata": {},
   "source": [
    "- one item per line\n",
    "- Each Elf separates their own inventory from the previous Elf's inventory (if any) by a blank line."
   ]
  },
  {
   "attachments": {},
   "cell_type": "markdown",
   "metadata": {},
   "source": [
    "PLAN:\n",
    "\n",
    "Use new lines to count elf #\n",
    "\n",
    "- elf # = \n",
    "\n",
    "Sum the calories\n",
    "\n",
    "- calorie for elf # = \n",
    "\n",
    "Then put into a dict???"
   ]
  },
  {
   "cell_type": "code",
   "execution_count": 1,
   "metadata": {},
   "outputs": [
    {
     "name": "stdout",
     "output_type": "stream",
     "text": [
      "1000\n",
      "2000\n",
      "3000\n",
      "\n",
      "4000\n",
      "\n",
      "5000\n",
      "6000\n",
      "\n",
      "7000\n",
      "8000\n",
      "9000\n",
      "\n",
      "10000\n"
     ]
    }
   ],
   "source": [
    "# Import sample\n",
    "# Replace later with actual input\n",
    "file_path = \"sample.txt\"\n",
    "\n",
    "# Operation mode\n",
    "read = 'r'\n",
    "\n",
    "# Open file in read only mode\n",
    "with open(file_path, read) as file:\n",
    "    file_contents = file.read()\n",
    "\n",
    "# CHECK - file contents\n",
    "print(file_contents)"
   ]
  },
  {
   "cell_type": "code",
   "execution_count": 2,
   "metadata": {},
   "outputs": [
    {
     "name": "stdout",
     "output_type": "stream",
     "text": [
      "yaaaaaaa\n"
     ]
    }
   ],
   "source": [
    "# CHECK - for newlines\n",
    "if '\\n' in file_contents:\n",
    "    print('yaaaaaaa')\n",
    "else:\n",
    "    print('nah')"
   ]
  },
  {
   "cell_type": "code",
   "execution_count": null,
   "metadata": {},
   "outputs": [],
   "source": [
    "# Set counter variables\n",
    "# Elf should always start at 0\n",
    "# Calories should be a \n",
    "elf = 0\n",
    "calories = 0\n",
    "dict_of_elves = {}"
   ]
  },
  {
   "cell_type": "code",
   "execution_count": 8,
   "metadata": {},
   "outputs": [
    {
     "name": "stdout",
     "output_type": "stream",
     "text": [
      "dict_of_elves = {1: 6000}\n",
      "dict_of_elves = {1: 6000, 2: 4000}\n",
      "dict_of_elves = {1: 6000, 2: 4000, 3: 11000}\n",
      "dict_of_elves = {1: 6000, 2: 4000, 3: 11000, 4: 24000}\n"
     ]
    }
   ],
   "source": [
    "# Counting elves and summing calories\n",
    "\n",
    "# Open file in read only mode\n",
    "with open(file_path, read) as file:\n",
    "    # file_contents = file.read()\n",
    "    # print('file contents = \\n', file_contents)\n",
    "    \n",
    "    for line in file:\n",
    "        \n",
    "        # CHECK - line contents\n",
    "        #print('line =', line)\n",
    "    \n",
    "        # CHECK - types\n",
    "        # RESULT = strings --> convert to int\n",
    "        #print('type =', type(line))\n",
    "        #print(int(line))\n",
    "        \n",
    "        # If newline detected: stop adding calories, add elf number\n",
    "        # NOTE: order is important here, reversing the if order causes errors\n",
    "        if line == '\\n':\n",
    "            elf += 1\n",
    "            # print('elf =', elf)\n",
    "            # print('calories =', calories)\n",
    "            \n",
    "            # At every newline, add elf : calorie count to dict\n",
    "            dict_of_elves.update({elf : calories})\n",
    "            # print('dict_of_elves =', dict_of_elves)\n",
    "            \n",
    "            # Reset calorie counter\n",
    "            calories = 0\n",
    "            # print('calories =', calories)   \n",
    "            \n",
    "        # Convert strings to numbers, then add to calories\n",
    "        elif type(int(line)) == int:\n",
    "            calories += int(line)\n",
    "            # print('calories =', calories)\n",
    "    "
   ]
  },
  {
   "cell_type": "code",
   "execution_count": 10,
   "metadata": {},
   "outputs": [
    {
     "name": "stdout",
     "output_type": "stream",
     "text": [
      "dict_of_elves = {1: 6000, 2: 4000, 3: 11000, 4: 24000}\n"
     ]
    }
   ],
   "source": [
    "print('dict_of_elves =', dict_of_elves)"
   ]
  }
 ],
 "metadata": {
  "kernelspec": {
   "display_name": "data601-intro_to_DS_20220604",
   "language": "python",
   "name": "python3"
  },
  "language_info": {
   "codemirror_mode": {
    "name": "ipython",
    "version": 3
   },
   "file_extension": ".py",
   "mimetype": "text/x-python",
   "name": "python",
   "nbconvert_exporter": "python",
   "pygments_lexer": "ipython3",
   "version": "3.8.11"
  },
  "orig_nbformat": 4,
  "vscode": {
   "interpreter": {
    "hash": "a5adb98ea87b39128c04417b82f0eb38fddf700a75044eca86c4c4d90ac4201b"
   }
  }
 },
 "nbformat": 4,
 "nbformat_minor": 2
}
