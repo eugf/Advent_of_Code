{
 "cells": [
  {
   "attachments": {},
   "cell_type": "markdown",
   "metadata": {},
   "source": [
    "- one item per line\n",
    "- Each Elf separates their own inventory from the previous Elf's inventory (if any) by a blank line."
   ]
  },
  {
   "attachments": {},
   "cell_type": "markdown",
   "metadata": {},
   "source": [
    "PLAN:\n",
    "\n",
    "Use new lines to count elf #\n",
    "\n",
    "- elf # = \n",
    "\n",
    "Sum the calories\n",
    "\n",
    "- calorie for elf # = \n",
    "\n",
    "Then put into a dict???"
   ]
  },
  {
   "cell_type": "code",
   "execution_count": 2,
   "metadata": {},
   "outputs": [
    {
     "name": "stdout",
     "output_type": "stream",
     "text": [
      "1000\n",
      "2000\n",
      "3000\n",
      "\n",
      "4000\n",
      "\n",
      "5000\n",
      "6000\n",
      "\n",
      "7000\n",
      "8000\n",
      "9000\n",
      "\n",
      "10000\n"
     ]
    }
   ],
   "source": [
    "# Import sample\n",
    "# Replace later with actual input\n",
    "file_path = \"sample.txt\"\n",
    "\n",
    "# Operation mode\n",
    "read = 'r'\n",
    "\n",
    "# Open file in read only mode\n",
    "with open(file_path, read) as file:\n",
    "    file_contents = file.read()\n",
    "\n",
    "# CHECK - file contents\n",
    "print(file_contents)"
   ]
  },
  {
   "cell_type": "code",
   "execution_count": 3,
   "metadata": {},
   "outputs": [
    {
     "name": "stdout",
     "output_type": "stream",
     "text": [
      "yaaaaaaa\n"
     ]
    }
   ],
   "source": [
    "# CHECK - for newlines\n",
    "if '\\n' in file_contents:\n",
    "    print('yaaaaaaa')\n",
    "else:\n",
    "    print('nah')"
   ]
  },
  {
   "cell_type": "code",
   "execution_count": 18,
   "metadata": {},
   "outputs": [
    {
     "name": "stdout",
     "output_type": "stream",
     "text": [
      "calories = 1000\n",
      "calories = 3000\n",
      "calories = 6000\n",
      "elf = 1\n",
      "calories = 0\n",
      "calories = 4000\n",
      "elf = 2\n",
      "calories = 0\n",
      "calories = 5000\n",
      "calories = 11000\n",
      "elf = 3\n",
      "calories = 0\n",
      "calories = 7000\n",
      "calories = 15000\n",
      "calories = 24000\n",
      "elf = 4\n",
      "calories = 0\n",
      "calories = 10000\n"
     ]
    }
   ],
   "source": [
    "# Set counter variables\n",
    "# Elf should always start at 0\n",
    "# Calories should be a \n",
    "elf = 0\n",
    "calories = 0\n",
    "\n",
    "# Counting elves and summing calories\n",
    "\n",
    "# Open file in read only mode\n",
    "with open(file_path, read) as file:\n",
    "    # file_contents = file.read()\n",
    "    # print('file contents = \\n', file_contents)\n",
    "    \n",
    "    for line in file:\n",
    "        \n",
    "        # CHECK - line contents\n",
    "        #print('line =', line)\n",
    "    \n",
    "        # CHECK - types\n",
    "        # RESULT = strings --> convert to int\n",
    "        #print('type =', type(line))\n",
    "        #print(int(line))\n",
    "        \n",
    "        # If newline detected: stop adding calories, add elf number\n",
    "        if line == '\\n':\n",
    "            elf += 1\n",
    "            calories = 0\n",
    "            print('elf =', elf)\n",
    "            print('calories =', calories)\n",
    "            \n",
    "            # TODO - add another loop to add to dict\n",
    "\n",
    "        # Convert strings to numbers, then add to calories\n",
    "        elif type(int(line)) == int:\n",
    "            calories += int(line)\n",
    "            print('calories =', calories)\n",
    "            \n",
    "        \n",
    "    \n",
    "    "
   ]
  },
  {
   "cell_type": "code",
   "execution_count": 5,
   "metadata": {},
   "outputs": [
    {
     "name": "stdout",
     "output_type": "stream",
     "text": [
      "line = 1\n",
      "line = 0\n",
      "line = 0\n",
      "line = 0\n",
      "line = \n",
      "\n",
      "line = 2\n",
      "line = 0\n",
      "line = 0\n",
      "line = 0\n",
      "line = \n",
      "\n",
      "line = 3\n",
      "line = 0\n",
      "line = 0\n",
      "line = 0\n",
      "line = \n",
      "\n",
      "line = \n",
      "\n",
      "line = 4\n",
      "line = 0\n",
      "line = 0\n",
      "line = 0\n",
      "line = \n",
      "\n",
      "line = \n",
      "\n",
      "line = 5\n",
      "line = 0\n",
      "line = 0\n",
      "line = 0\n",
      "line = \n",
      "\n",
      "line = 6\n",
      "line = 0\n",
      "line = 0\n",
      "line = 0\n",
      "line = \n",
      "\n",
      "line = \n",
      "\n",
      "line = 7\n",
      "line = 0\n",
      "line = 0\n",
      "line = 0\n",
      "line = \n",
      "\n",
      "line = 8\n",
      "line = 0\n",
      "line = 0\n",
      "line = 0\n",
      "line = \n",
      "\n",
      "line = 9\n",
      "line = 0\n",
      "line = 0\n",
      "line = 0\n",
      "line = \n",
      "\n",
      "line = \n",
      "\n",
      "line = 1\n",
      "line = 0\n",
      "line = 0\n",
      "line = 0\n",
      "line = 0\n"
     ]
    }
   ],
   "source": [
    "# FAIL\n",
    "for line in file_contents:\n",
    "    print('line =', line)\n",
    "    "
   ]
  }
 ],
 "metadata": {
  "kernelspec": {
   "display_name": "data601-intro_to_DS_20220604",
   "language": "python",
   "name": "python3"
  },
  "language_info": {
   "codemirror_mode": {
    "name": "ipython",
    "version": 3
   },
   "file_extension": ".py",
   "mimetype": "text/x-python",
   "name": "python",
   "nbconvert_exporter": "python",
   "pygments_lexer": "ipython3",
   "version": "3.8.11 (default, Aug  6 2021, 09:57:55) [MSC v.1916 64 bit (AMD64)]"
  },
  "orig_nbformat": 4,
  "vscode": {
   "interpreter": {
    "hash": "a5adb98ea87b39128c04417b82f0eb38fddf700a75044eca86c4c4d90ac4201b"
   }
  }
 },
 "nbformat": 4,
 "nbformat_minor": 2
}
