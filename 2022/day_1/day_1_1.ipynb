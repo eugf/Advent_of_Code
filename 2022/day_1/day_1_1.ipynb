{
 "cells": [
  {
   "attachments": {},
   "cell_type": "markdown",
   "metadata": {},
   "source": [
    "- one item per line\n",
    "- Each Elf separates their own inventory from the previous Elf's inventory (if any) by a blank line."
   ]
  },
  {
   "attachments": {},
   "cell_type": "markdown",
   "metadata": {},
   "source": [
    "PLAN:\n",
    "\n",
    "Use new lines to count elf #\n",
    "\n",
    "- elf # = \n",
    "\n",
    "Sum the calories\n",
    "\n",
    "- calorie for elf # = \n",
    "\n",
    "Then put into a dict???"
   ]
  },
  {
   "cell_type": "code",
   "execution_count": 4,
   "metadata": {},
   "outputs": [
    {
     "name": "stdout",
     "output_type": "stream",
     "text": [
      "1000\n",
      "2000\n",
      "3000\n",
      "\n",
      "4000\n",
      "\n",
      "5000\n",
      "6000\n",
      "\n",
      "7000\n",
      "8000\n",
      "9000\n",
      "\n",
      "10000\n"
     ]
    }
   ],
   "source": [
    "# Import sample\n",
    "# Replace later with actual input\n",
    "file_path = \"sample.txt\"\n",
    "\n",
    "# Operation mode\n",
    "read = 'r'\n",
    "\n",
    "# Open file in read only mode\n",
    "with open(file_path, read) as file:\n",
    "    file_contents = file.read()\n",
    "\n",
    "# CHECK - file contents\n",
    "print(file_contents)"
   ]
  },
  {
   "cell_type": "code",
   "execution_count": 7,
   "metadata": {},
   "outputs": [
    {
     "name": "stdout",
     "output_type": "stream",
     "text": [
      "yaaaaaaa\n"
     ]
    }
   ],
   "source": [
    "# CHECK - for newlines\n",
    "if '\\n' in file_contents:\n",
    "    print('yaaaaaaa')\n",
    "else:\n",
    "    print('nah')"
   ]
  },
  {
   "cell_type": "code",
   "execution_count": null,
   "metadata": {},
   "outputs": [],
   "source": [
    "# Set counter variables\n",
    "# Always start at 0\n",
    "elf = 0\n",
    "calories = 0\n",
    "\n",
    "# Counting elves and summing calories\n",
    "\n"
   ]
  }
 ],
 "metadata": {
  "kernelspec": {
   "display_name": "data601-intro_to_DS_20220604",
   "language": "python",
   "name": "python3"
  },
  "language_info": {
   "codemirror_mode": {
    "name": "ipython",
    "version": 3
   },
   "file_extension": ".py",
   "mimetype": "text/x-python",
   "name": "python",
   "nbconvert_exporter": "python",
   "pygments_lexer": "ipython3",
   "version": "3.8.11"
  },
  "orig_nbformat": 4,
  "vscode": {
   "interpreter": {
    "hash": "a5adb98ea87b39128c04417b82f0eb38fddf700a75044eca86c4c4d90ac4201b"
   }
  }
 },
 "nbformat": 4,
 "nbformat_minor": 2
}
